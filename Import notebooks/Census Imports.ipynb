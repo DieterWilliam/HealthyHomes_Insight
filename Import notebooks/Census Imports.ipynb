{
 "cells": [
  {
   "cell_type": "code",
   "execution_count": 1,
   "metadata": {},
   "outputs": [
    {
     "name": "stderr",
     "output_type": "stream",
     "text": [
      "/anaconda3/envs/OSMNX/lib/python3.6/site-packages/pysal/__init__.py:65: VisibleDeprecationWarning: PySAL's API will be changed on 2018-12-31. The last release made with this API is version 1.14.4. A preview of the next API version is provided in the `pysal` 2.0 prelease candidate. The API changes and a guide on how to change imports is provided at https://pysal.org/about\n",
      "  ), VisibleDeprecationWarning)\n"
     ]
    }
   ],
   "source": [
    "import geopandas as gpd\n",
    "import pandas as pd\n",
    "import numpy as np\n",
    "import cenpy as cen\n",
    "import seaborn as sns\n",
    "import matplotlib.pyplot as plt\n",
    "from shapely import wkt\n",
    "import pysal as ps\n",
    "\n",
    "%matplotlib inline"
   ]
  },
  {
   "cell_type": "code",
   "execution_count": 13,
   "metadata": {},
   "outputs": [
    {
     "name": "stdout",
     "output_type": "stream",
     "text": [
      "Census Imports.ipynb     Shapefile imports.ipynb\r\n"
     ]
    }
   ],
   "source": [
    "ls"
   ]
  },
  {
   "cell_type": "code",
   "execution_count": 3,
   "metadata": {},
   "outputs": [],
   "source": [
    "#import all California census tracts...\n",
    "tracts = gpd.read_file(\"data/tl_2017_06_tract/tl_2017_06_tract.shp\")"
   ]
  },
  {
   "cell_type": "code",
   "execution_count": 4,
   "metadata": {},
   "outputs": [
    {
     "data": {
      "text/plain": [
       "Connection to 2009-2013 American Community Survey 5-Year Estimates (ID: http://api.census.gov/data/id/ACSSF5Y2013)"
      ]
     },
     "execution_count": 4,
     "metadata": {},
     "output_type": "execute_result"
    }
   ],
   "source": [
    "## connect to ACSF survey API\n",
    "dataset = 'ACSSF5Y2013'\n",
    "#cen.explorer.explain(dataset)\n",
    "con = cen.base.Connection(dataset)\n",
    "con"
   ]
  },
  {
   "cell_type": "code",
   "execution_count": 5,
   "metadata": {},
   "outputs": [
    {
     "name": "stderr",
     "output_type": "stream",
     "text": [
      "/anaconda3/envs/OSMNX/lib/python3.6/site-packages/cenpy/remote.py:172: FutureWarning: convert_objects is deprecated.  To re-infer data dtypes for object columns, use DataFrame.infer_objects()\n",
      "For all other conversions use the data-type specific converters pd.to_datetime, pd.to_timedelta and pd.to_numeric.\n",
      "  df[cols] = df[cols].convert_objects(convert_numeric=convert_numeric)\n"
     ]
    },
    {
     "data": {
      "text/html": [
       "<div>\n",
       "<style scoped>\n",
       "    .dataframe tbody tr th:only-of-type {\n",
       "        vertical-align: middle;\n",
       "    }\n",
       "\n",
       "    .dataframe tbody tr th {\n",
       "        vertical-align: top;\n",
       "    }\n",
       "\n",
       "    .dataframe thead th {\n",
       "        text-align: right;\n",
       "    }\n",
       "</style>\n",
       "<table border=\"1\" class=\"dataframe\">\n",
       "  <thead>\n",
       "    <tr style=\"text-align: right;\">\n",
       "      <th></th>\n",
       "      <th>B01003_001E</th>\n",
       "      <th>B01003_001M</th>\n",
       "      <th>NAME</th>\n",
       "      <th>GEOID</th>\n",
       "      <th>state</th>\n",
       "      <th>county</th>\n",
       "      <th>tract</th>\n",
       "    </tr>\n",
       "  </thead>\n",
       "  <tbody>\n",
       "    <tr>\n",
       "      <th>0</th>\n",
       "      <td>3353</td>\n",
       "      <td>332</td>\n",
       "      <td>Census Tract 4001, Alameda County, California</td>\n",
       "      <td>14000US06001400100</td>\n",
       "      <td>06</td>\n",
       "      <td>001</td>\n",
       "      <td>400100</td>\n",
       "    </tr>\n",
       "    <tr>\n",
       "      <th>1</th>\n",
       "      <td>1944</td>\n",
       "      <td>147</td>\n",
       "      <td>Census Tract 4002, Alameda County, California</td>\n",
       "      <td>14000US06001400200</td>\n",
       "      <td>06</td>\n",
       "      <td>001</td>\n",
       "      <td>400200</td>\n",
       "    </tr>\n",
       "    <tr>\n",
       "      <th>2</th>\n",
       "      <td>5376</td>\n",
       "      <td>539</td>\n",
       "      <td>Census Tract 4003, Alameda County, California</td>\n",
       "      <td>14000US06001400300</td>\n",
       "      <td>06</td>\n",
       "      <td>001</td>\n",
       "      <td>400300</td>\n",
       "    </tr>\n",
       "    <tr>\n",
       "      <th>3</th>\n",
       "      <td>4152</td>\n",
       "      <td>346</td>\n",
       "      <td>Census Tract 4004, Alameda County, California</td>\n",
       "      <td>14000US06001400400</td>\n",
       "      <td>06</td>\n",
       "      <td>001</td>\n",
       "      <td>400400</td>\n",
       "    </tr>\n",
       "    <tr>\n",
       "      <th>4</th>\n",
       "      <td>3618</td>\n",
       "      <td>422</td>\n",
       "      <td>Census Tract 4005, Alameda County, California</td>\n",
       "      <td>14000US06001400500</td>\n",
       "      <td>06</td>\n",
       "      <td>001</td>\n",
       "      <td>400500</td>\n",
       "    </tr>\n",
       "  </tbody>\n",
       "</table>\n",
       "</div>"
      ],
      "text/plain": [
       "   B01003_001E  B01003_001M                                           NAME  \\\n",
       "0         3353          332  Census Tract 4001, Alameda County, California   \n",
       "1         1944          147  Census Tract 4002, Alameda County, California   \n",
       "2         5376          539  Census Tract 4003, Alameda County, California   \n",
       "3         4152          346  Census Tract 4004, Alameda County, California   \n",
       "4         3618          422  Census Tract 4005, Alameda County, California   \n",
       "\n",
       "                GEOID state county   tract  \n",
       "0  14000US06001400100    06    001  400100  \n",
       "1  14000US06001400200    06    001  400200  \n",
       "2  14000US06001400300    06    001  400300  \n",
       "3  14000US06001400400    06    001  400400  \n",
       "4  14000US06001400500    06    001  400500  "
      ]
     },
     "execution_count": 5,
     "metadata": {},
     "output_type": "execute_result"
    }
   ],
   "source": [
    "# extract all population data for census tracts in California\n",
    "g_unit = 'tract:*'\n",
    "g_filter = {'state':'6'}\n",
    "\n",
    "cols = con.varslike('B01003')\n",
    "cols.extend(['NAME', 'GEOID'])\n",
    "\n",
    "data = con.query(cols, geo_unit=g_unit, geo_filter=g_filter)\n",
    "\n",
    "data.head()"
   ]
  },
  {
   "cell_type": "code",
   "execution_count": 6,
   "metadata": {},
   "outputs": [],
   "source": [
    "# clean up the GEOID field used for merging datasets\n",
    "data['GEOID'] = data['GEOID'].astype(str)\n",
    "data['GEOID'] = data['GEOID'].apply(lambda x: x.split('US')[1])"
   ]
  },
  {
   "cell_type": "code",
   "execution_count": 7,
   "metadata": {},
   "outputs": [],
   "source": [
    "#merge the files...\n",
    "demographics = pd.merge(data, tracts, on='GEOID')\n",
    "alameda_dm = demographics[demographics.COUNTYFP == '001']\n",
    "\n",
    "demographics.to_csv('all_demographics.csv')"
   ]
  },
  {
   "cell_type": "code",
   "execution_count": null,
   "metadata": {},
   "outputs": [],
   "source": []
  }
 ],
 "metadata": {
  "kernelspec": {
   "display_name": "Python 3",
   "language": "python",
   "name": "python3"
  },
  "language_info": {
   "codemirror_mode": {
    "name": "ipython",
    "version": 3
   },
   "file_extension": ".py",
   "mimetype": "text/x-python",
   "name": "python",
   "nbconvert_exporter": "python",
   "pygments_lexer": "ipython3",
   "version": "3.6.6"
  },
  "toc": {
   "base_numbering": 1,
   "nav_menu": {},
   "number_sections": true,
   "sideBar": true,
   "skip_h1_title": false,
   "title_cell": "Table of Contents",
   "title_sidebar": "Contents",
   "toc_cell": false,
   "toc_position": {},
   "toc_section_display": true,
   "toc_window_display": false
  },
  "varInspector": {
   "cols": {
    "lenName": 16,
    "lenType": 16,
    "lenVar": 40
   },
   "kernels_config": {
    "python": {
     "delete_cmd_postfix": "",
     "delete_cmd_prefix": "del ",
     "library": "var_list.py",
     "varRefreshCmd": "print(var_dic_list())"
    },
    "r": {
     "delete_cmd_postfix": ") ",
     "delete_cmd_prefix": "rm(",
     "library": "var_list.r",
     "varRefreshCmd": "cat(var_dic_list()) "
    }
   },
   "types_to_exclude": [
    "module",
    "function",
    "builtin_function_or_method",
    "instance",
    "_Feature"
   ],
   "window_display": false
  }
 },
 "nbformat": 4,
 "nbformat_minor": 2
}
