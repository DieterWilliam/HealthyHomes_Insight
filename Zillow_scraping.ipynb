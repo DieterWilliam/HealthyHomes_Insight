{
 "cells": [
  {
   "cell_type": "code",
   "execution_count": 3,
   "metadata": {},
   "outputs": [],
   "source": [
    "import requests\n",
    "import pandas as pd\n",
    "import geopandas as gpd\n",
    "\n",
    "from itertools import chain\n",
    "from shapely.geometry import Point, MultiPoint\n",
    "from feature_geometries import *\n",
    "from itertools import chain\n",
    "from bs4 import BeautifulSoup\n",
    "\n",
    "import seaborn as sns"
   ]
  },
  {
   "cell_type": "code",
   "execution_count": 2,
   "metadata": {},
   "outputs": [],
   "source": [
    "# Headers required for scraping the Zillow main results browser pafe\n",
    "req_headers = {\n",
    "    'accept': 'text/html,application/xhtml+xml,application/xml;q=0.9,image/webp,image/apng,*/*;q=0.8',\n",
    "    'accept-encoding': 'gzip, deflate, br',\n",
    "    'accept-language': 'en-US,en;q=0.8',\n",
    "    'upgrade-insecure-requests': '1',\n",
    "    'user-agent': 'Mozilla/5.0 (Windows NT 10.0; Win64; x64) AppleWebKit/537.36 (KHTML, like Gecko) Chrome/61.0.3163.100 Safari/537.36'\n",
    "}\n",
    "\n",
    "def url_rent(page):\n",
    "    return 'https://www.zillow.com/homes/for_rent/Oakland-CA/all_type/13072_rid/37.971537,-121.981545,37.612327,-122.47593_rect/10_zm/' + page + '_p/'\n"
   ]
  },
  {
   "cell_type": "code",
   "execution_count": 4,
   "metadata": {},
   "outputs": [],
   "source": [
    "# initialize lists for aggregating all Zillow rental data\n",
    "all_addresses = []\n",
    "all_characteristics = []\n",
    "all_prices = []\n",
    "all_lats = []\n",
    "all_longs = []\n",
    "\n",
    "#iterate through the first 40 pages of data (this should be all current listings in Oakland)\n",
    "for page in np.arange(1, 40):\n",
    "    with requests.Session() as s:\n",
    "        url = url_rent(str(page))\n",
    "        r = s.get(url, headers=req_headers)\n",
    "        \n",
    "        soup = BeautifulSoup(r.content, 'lxml')\n",
    "        \n",
    "        address = soup.find_all('span', {'itemprop': 'address'})\n",
    "        characteristics = soup.find_all('span', {'class': 'zsg-photo-card-info'})\n",
    "        price = soup.find_all('span', {'class': 'zsg-photo-card-price'})\n",
    "        \n",
    "        address_list = [value.text for value in address]\n",
    "        char_list = [value.text for value in characteristics]\n",
    "        price_list = [value.text for value in price]\n",
    "        lat_list = [item['content'] for item in soup('meta') \n",
    "               if item.has_attr('itemprop') and item.attrs['itemprop']  == 'latitude']\n",
    "        long_list = [item['content'] for item in soup('meta') \n",
    "               if item.has_attr('itemprop') and item.attrs['itemprop']  == 'longitude']\n",
    "        \n",
    "        # add to master list\n",
    "        all_addresses.append(address_list)\n",
    "        all_characteristics.append(char_list)\n",
    "        all_prices.append(price_list)\n",
    "        all_lats.append(lat_list)\n",
    "        all_longs.append(long_list)\n",
    "\n"
   ]
  },
  {
   "cell_type": "code",
   "execution_count": 5,
   "metadata": {},
   "outputs": [],
   "source": [
    "#clean the characteristics columns for erroneous price data\n",
    "characteristics = list(chain.from_iterable(all_characteristics))\n",
    "characteristics = [value for value in characteristics if not ('$' in value)]\n",
    "\n",
    "# convert lists to a single pandas dataframe\n",
    "All_rentals = pd.DataFrame(\n",
    "    {'address': list(chain.from_iterable(all_addresses)),\n",
    "     'latitude': list(chain.from_iterable(all_lats)),\n",
    "     'longitude': list(chain.from_iterable(all_longs)),\n",
    "     'price': list(chain.from_iterable(all_prices)),\n",
    "     'characteristics': characteristics \n",
    "    })\n",
    "\n",
    "All_rentals[['beds', 'baths', 'sqft']] = All_rentals['characteristics'].str.split('·\\s+', expand=True)\n",
    "All_rentals = All_rentals.drop('characteristics', axis=1)\n",
    "\n",
    "#clean up the messy columns...\n",
    "All_rentals['price'] = All_rentals.price.str.strip('$/mo')\n",
    "All_rentals['price'] = All_rentals.price.str.replace(',', '')\n",
    "All_rentals['price'] = All_rentals.price.str.replace('+', '').astype(int)\n",
    "\n",
    "All_rentals['sqft'] = All_rentals.sqft.str.replace('sqft', '')\n",
    "All_rentals['sqft'] = All_rentals.sqft.str.replace('--', '0')\n",
    "All_rentals['sqft'] = All_rentals.sqft.str.replace(',', '').astype(int)\n",
    "All_rentals['sqft'] = All_rentals.sqft.replace(0, np.nan)\n",
    "\n",
    "All_rentals['latitude'] = All_rentals.latitude.astype(float)\n",
    "All_rentals['longitude'] = All_rentals.longitude.astype(float)\n",
    "\n",
    "# convert to geo dataframe\n",
    "geometry = [Point(xy) for xy in zip(All_rentals.longitude, All_rentals.latitude)]\n",
    "All_rentals = gpd.GeoDataFrame(All_rentals, geometry=geometry, crs={'init' :'epsg:4326'}) #Mercator lat long input"
   ]
  },
  {
   "cell_type": "code",
   "execution_count": 7,
   "metadata": {},
   "outputs": [
    {
     "name": "stdout",
     "output_type": "stream",
     "text": [
      "(703, 8)\n"
     ]
    },
    {
     "data": {
      "image/png": "[encoded data removed]",
      "text/plain": [
       "<Figure size 432x288 with 1 Axes>"
      ]
     },
     "metadata": {
      "needs_background": "light"
     },
     "output_type": "display_data"
    }
   ],
   "source": [
    "print(All_rentals.shape)\n",
    "All_rentals.plot(); # plot the location of all rentals pulled from Zillow"
   ]
  },
  {
   "cell_type": "code",
   "execution_count": 11,
   "metadata": {},
   "outputs": [
    {
     "data": {
      "text/html": [
       "<div>\n",
       "<style scoped>\n",
       "    .dataframe tbody tr th:only-of-type {\n",
       "        vertical-align: middle;\n",
       "    }\n",
       "\n",
       "    .dataframe tbody tr th {\n",
       "        vertical-align: top;\n",
       "    }\n",
       "\n",
       "    .dataframe thead th {\n",
       "        text-align: right;\n",
       "    }\n",
       "</style>\n",
       "<table border=\"1\" class=\"dataframe\">\n",
       "  <thead>\n",
       "    <tr style=\"text-align: right;\">\n",
       "      <th></th>\n",
       "      <th>State</th>\n",
       "      <th>County</th>\n",
       "      <th>City</th>\n",
       "      <th>Name</th>\n",
       "      <th>RegionID</th>\n",
       "      <th>geometry</th>\n",
       "    </tr>\n",
       "  </thead>\n",
       "  <tbody>\n",
       "    <tr>\n",
       "      <th>24</th>\n",
       "      <td>CA</td>\n",
       "      <td>Alameda</td>\n",
       "      <td>Oakland</td>\n",
       "      <td>Chinatown</td>\n",
       "      <td>114292</td>\n",
       "      <td>POLYGON ((-122.2700929749999 37.80135293100005...</td>\n",
       "    </tr>\n",
       "    <tr>\n",
       "      <th>273</th>\n",
       "      <td>CA</td>\n",
       "      <td>Alameda</td>\n",
       "      <td>Oakland</td>\n",
       "      <td>Adams Point</td>\n",
       "      <td>267990</td>\n",
       "      <td>POLYGON ((-122.2493849479999 37.81247701900008...</td>\n",
       "    </tr>\n",
       "    <tr>\n",
       "      <th>283</th>\n",
       "      <td>CA</td>\n",
       "      <td>Alameda</td>\n",
       "      <td>Oakland</td>\n",
       "      <td>Civic Center</td>\n",
       "      <td>268073</td>\n",
       "      <td>POLYGON ((-122.2629218196665 37.80108023766672...</td>\n",
       "    </tr>\n",
       "    <tr>\n",
       "      <th>291</th>\n",
       "      <td>CA</td>\n",
       "      <td>Alameda</td>\n",
       "      <td>Oakland</td>\n",
       "      <td>East Peralta</td>\n",
       "      <td>268125</td>\n",
       "      <td>POLYGON ((-122.2513529469999 37.79354501800009...</td>\n",
       "    </tr>\n",
       "    <tr>\n",
       "      <th>294</th>\n",
       "      <td>CA</td>\n",
       "      <td>Alameda</td>\n",
       "      <td>Oakland</td>\n",
       "      <td>Elmhurst Park</td>\n",
       "      <td>268142</td>\n",
       "      <td>POLYGON ((-122.1710949479999 37.74504101800005...</td>\n",
       "    </tr>\n",
       "  </tbody>\n",
       "</table>\n",
       "</div>"
      ],
      "text/plain": [
       "    State   County     City           Name RegionID  \\\n",
       "24     CA  Alameda  Oakland      Chinatown   114292   \n",
       "273    CA  Alameda  Oakland    Adams Point   267990   \n",
       "283    CA  Alameda  Oakland   Civic Center   268073   \n",
       "291    CA  Alameda  Oakland   East Peralta   268125   \n",
       "294    CA  Alameda  Oakland  Elmhurst Park   268142   \n",
       "\n",
       "                                              geometry  \n",
       "24   POLYGON ((-122.2700929749999 37.80135293100005...  \n",
       "273  POLYGON ((-122.2493849479999 37.81247701900008...  \n",
       "283  POLYGON ((-122.2629218196665 37.80108023766672...  \n",
       "291  POLYGON ((-122.2513529469999 37.79354501800009...  \n",
       "294  POLYGON ((-122.1710949479999 37.74504101800005...  "
      ]
     },
     "execution_count": 11,
     "metadata": {},
     "output_type": "execute_result"
    }
   ],
   "source": [
    "#import neighborhood data\n",
    "neighborhoods = gpd.read_file(\"./data/ZillowNeighborhoods-CA/ZillowNeighborhoods-CA.shp\")\n",
    "oakland_neighborhoods = neighborhoods[neighborhoods.City == \"Oakland\"]\n",
    "oakland_neighborhoods.head()"
   ]
  },
  {
   "cell_type": "code",
   "execution_count": 12,
   "metadata": {},
   "outputs": [
    {
     "data": {
      "text/plain": [
       "<matplotlib.axes._subplots.AxesSubplot at 0x1a2366ca20>"
      ]
     },
     "execution_count": 12,
     "metadata": {},
     "output_type": "execute_result"
    },
    {
     "data": {
      "image/png": "[encoded data removed]",
      "text/plain": [
       "<Figure size 432x288 with 1 Axes>"
      ]
     },
     "metadata": {
      "needs_background": "light"
     },
     "output_type": "display_data"
    }
   ],
   "source": [
    "oakland_neighborhoods.plot() #plot neighborhood outlines"
   ]
  },
  {
   "cell_type": "code",
   "execution_count": 14,
   "metadata": {},
   "outputs": [
    {
     "name": "stderr",
     "output_type": "stream",
     "text": [
      "/anaconda3/envs/OSMNX/lib/python3.6/site-packages/geopandas/tools/sjoin.py:44: UserWarning: CRS of frames being joined does not match!\n",
      "  warn('CRS of frames being joined does not match!')\n"
     ]
    }
   ],
   "source": [
    "rentals_by_zone = gpd.sjoin(All_rentals, oakland_neighborhoods, how='left', op='intersects')"
   ]
  },
  {
   "cell_type": "code",
   "execution_count": 15,
   "metadata": {},
   "outputs": [
    {
     "data": {
      "text/html": [
       "<div>\n",
       "<style scoped>\n",
       "    .dataframe tbody tr th:only-of-type {\n",
       "        vertical-align: middle;\n",
       "    }\n",
       "\n",
       "    .dataframe tbody tr th {\n",
       "        vertical-align: top;\n",
       "    }\n",
       "\n",
       "    .dataframe thead th {\n",
       "        text-align: right;\n",
       "    }\n",
       "</style>\n",
       "<table border=\"1\" class=\"dataframe\">\n",
       "  <thead>\n",
       "    <tr style=\"text-align: right;\">\n",
       "      <th></th>\n",
       "      <th>Name</th>\n",
       "      <th>latitude</th>\n",
       "      <th>longitude</th>\n",
       "      <th>price</th>\n",
       "      <th>sqft</th>\n",
       "    </tr>\n",
       "  </thead>\n",
       "  <tbody>\n",
       "    <tr>\n",
       "      <th>0</th>\n",
       "      <td>Adams Point</td>\n",
       "      <td>37.812932</td>\n",
       "      <td>-122.255480</td>\n",
       "      <td>2811.933333</td>\n",
       "      <td>1190.875000</td>\n",
       "    </tr>\n",
       "    <tr>\n",
       "      <th>1</th>\n",
       "      <td>Allendale</td>\n",
       "      <td>37.790226</td>\n",
       "      <td>-122.202442</td>\n",
       "      <td>2800.000000</td>\n",
       "      <td>805.000000</td>\n",
       "    </tr>\n",
       "    <tr>\n",
       "      <th>2</th>\n",
       "      <td>Arroyo Viejo</td>\n",
       "      <td>37.761476</td>\n",
       "      <td>-122.178141</td>\n",
       "      <td>2411.250000</td>\n",
       "      <td>1021.666667</td>\n",
       "    </tr>\n",
       "    <tr>\n",
       "      <th>3</th>\n",
       "      <td>Bella Vista</td>\n",
       "      <td>37.800776</td>\n",
       "      <td>-122.237120</td>\n",
       "      <td>4950.000000</td>\n",
       "      <td>2400.000000</td>\n",
       "    </tr>\n",
       "    <tr>\n",
       "      <th>4</th>\n",
       "      <td>Brookfield Village</td>\n",
       "      <td>37.732368</td>\n",
       "      <td>-122.181632</td>\n",
       "      <td>1848.750000</td>\n",
       "      <td>911.666667</td>\n",
       "    </tr>\n",
       "  </tbody>\n",
       "</table>\n",
       "</div>"
      ],
      "text/plain": [
       "                 Name   latitude   longitude        price         sqft\n",
       "0         Adams Point  37.812932 -122.255480  2811.933333  1190.875000\n",
       "1           Allendale  37.790226 -122.202442  2800.000000   805.000000\n",
       "2        Arroyo Viejo  37.761476 -122.178141  2411.250000  1021.666667\n",
       "3         Bella Vista  37.800776 -122.237120  4950.000000  2400.000000\n",
       "4  Brookfield Village  37.732368 -122.181632  1848.750000   911.666667"
      ]
     },
     "execution_count": 15,
     "metadata": {},
     "output_type": "execute_result"
    }
   ],
   "source": [
    "# Convert to dataframe of mean price and square-footage for rentals in all Oakland neighborhoods\n",
    "neighborhoods = rentals_by_zone.groupby('Name').mean()\n",
    "neighborhoods.drop(['index_right'], inplace = True, axis=1)\n",
    "neighborhoods.reset_index(inplace = True)\n",
    "neighborhoods.head()"
   ]
  },
  {
   "cell_type": "code",
   "execution_count": 76,
   "metadata": {},
   "outputs": [
    {
     "name": "stderr",
     "output_type": "stream",
     "text": [
      "/anaconda3/envs/OSMNX/lib/python3.6/site-packages/geopandas/tools/sjoin.py:44: UserWarning: CRS of frames being joined does not match!\n",
      "  warn('CRS of frames being joined does not match!')\n"
     ]
    }
   ],
   "source": [
    "#import heatmap data to get average exposures by neighborhood\n",
    "heatmap = import_gpd('./data/app/heatmap.csv')\n",
    "pollution_by_zone = gpd.sjoin(heatmap, oakland_neighborhoods, how='inner', op='intersects')"
   ]
  },
  {
   "cell_type": "code",
   "execution_count": 77,
   "metadata": {},
   "outputs": [
    {
     "data": {
      "text/html": [
       "<div>\n",
       "<style scoped>\n",
       "    .dataframe tbody tr th:only-of-type {\n",
       "        vertical-align: middle;\n",
       "    }\n",
       "\n",
       "    .dataframe tbody tr th {\n",
       "        vertical-align: top;\n",
       "    }\n",
       "\n",
       "    .dataframe thead th {\n",
       "        text-align: right;\n",
       "    }\n",
       "</style>\n",
       "<table border=\"1\" class=\"dataframe\">\n",
       "  <thead>\n",
       "    <tr style=\"text-align: right;\">\n",
       "      <th></th>\n",
       "      <th>Name</th>\n",
       "      <th>no2</th>\n",
       "      <th>bc</th>\n",
       "    </tr>\n",
       "  </thead>\n",
       "  <tbody>\n",
       "    <tr>\n",
       "      <th>0</th>\n",
       "      <td>Acorn</td>\n",
       "      <td>15.541501</td>\n",
       "      <td>0.516278</td>\n",
       "    </tr>\n",
       "    <tr>\n",
       "      <th>1</th>\n",
       "      <td>Acorn Industrial</td>\n",
       "      <td>22.539082</td>\n",
       "      <td>0.873373</td>\n",
       "    </tr>\n",
       "    <tr>\n",
       "      <th>2</th>\n",
       "      <td>Adams Point</td>\n",
       "      <td>13.443590</td>\n",
       "      <td>0.429612</td>\n",
       "    </tr>\n",
       "    <tr>\n",
       "      <th>3</th>\n",
       "      <td>Allendale</td>\n",
       "      <td>9.813637</td>\n",
       "      <td>0.321972</td>\n",
       "    </tr>\n",
       "    <tr>\n",
       "      <th>4</th>\n",
       "      <td>Arrowhead Marsh</td>\n",
       "      <td>13.532892</td>\n",
       "      <td>0.659737</td>\n",
       "    </tr>\n",
       "  </tbody>\n",
       "</table>\n",
       "</div>"
      ],
      "text/plain": [
       "               Name        no2        bc\n",
       "0             Acorn  15.541501  0.516278\n",
       "1  Acorn Industrial  22.539082  0.873373\n",
       "2       Adams Point  13.443590  0.429612\n",
       "3         Allendale   9.813637  0.321972\n",
       "4   Arrowhead Marsh  13.532892  0.659737"
      ]
     },
     "execution_count": 77,
     "metadata": {},
     "output_type": "execute_result"
    }
   ],
   "source": [
    "pollution = pollution_by_zone.groupby('Name')['no2', 'bc'].mean()\n",
    "pollution.reset_index(inplace = True)\n",
    "pollution.head()"
   ]
  },
  {
   "cell_type": "code",
   "execution_count": 78,
   "metadata": {},
   "outputs": [],
   "source": [
    "all_data = neighborhoods.merge(pollution, on='Name')\n",
    "all_data = oakland_neighborhoods.merge(all_data, on='Name')"
   ]
  },
  {
   "cell_type": "code",
   "execution_count": 80,
   "metadata": {},
   "outputs": [
    {
     "data": {
      "text/html": [
       "<div>\n",
       "<style scoped>\n",
       "    .dataframe tbody tr th:only-of-type {\n",
       "        vertical-align: middle;\n",
       "    }\n",
       "\n",
       "    .dataframe tbody tr th {\n",
       "        vertical-align: top;\n",
       "    }\n",
       "\n",
       "    .dataframe thead th {\n",
       "        text-align: right;\n",
       "    }\n",
       "</style>\n",
       "<table border=\"1\" class=\"dataframe\">\n",
       "  <thead>\n",
       "    <tr style=\"text-align: right;\">\n",
       "      <th></th>\n",
       "      <th>State</th>\n",
       "      <th>County</th>\n",
       "      <th>City</th>\n",
       "      <th>Name</th>\n",
       "      <th>RegionID</th>\n",
       "      <th>geometry</th>\n",
       "      <th>latitude</th>\n",
       "      <th>longitude</th>\n",
       "      <th>price</th>\n",
       "      <th>sqft</th>\n",
       "      <th>no2</th>\n",
       "      <th>bc</th>\n",
       "    </tr>\n",
       "  </thead>\n",
       "  <tbody>\n",
       "    <tr>\n",
       "      <th>0</th>\n",
       "      <td>CA</td>\n",
       "      <td>Alameda</td>\n",
       "      <td>Oakland</td>\n",
       "      <td>Chinatown</td>\n",
       "      <td>114292</td>\n",
       "      <td>POLYGON ((-122.2700929749999 37.80135293100005...</td>\n",
       "      <td>37.799394</td>\n",
       "      <td>-122.269657</td>\n",
       "      <td>2517.250000</td>\n",
       "      <td>811.666667</td>\n",
       "      <td>15.547257</td>\n",
       "      <td>0.527182</td>\n",
       "    </tr>\n",
       "    <tr>\n",
       "      <th>1</th>\n",
       "      <td>CA</td>\n",
       "      <td>Alameda</td>\n",
       "      <td>Oakland</td>\n",
       "      <td>Adams Point</td>\n",
       "      <td>267990</td>\n",
       "      <td>POLYGON ((-122.2493849479999 37.81247701900008...</td>\n",
       "      <td>37.812642</td>\n",
       "      <td>-122.254733</td>\n",
       "      <td>2915.235294</td>\n",
       "      <td>1237.909091</td>\n",
       "      <td>13.443590</td>\n",
       "      <td>0.429612</td>\n",
       "    </tr>\n",
       "    <tr>\n",
       "      <th>2</th>\n",
       "      <td>CA</td>\n",
       "      <td>Alameda</td>\n",
       "      <td>Oakland</td>\n",
       "      <td>Civic Center</td>\n",
       "      <td>268073</td>\n",
       "      <td>POLYGON ((-122.2629218196665 37.80108023766672...</td>\n",
       "      <td>37.799678</td>\n",
       "      <td>-122.265489</td>\n",
       "      <td>2095.000000</td>\n",
       "      <td>NaN</td>\n",
       "      <td>15.425390</td>\n",
       "      <td>0.546467</td>\n",
       "    </tr>\n",
       "    <tr>\n",
       "      <th>3</th>\n",
       "      <td>CA</td>\n",
       "      <td>Alameda</td>\n",
       "      <td>Oakland</td>\n",
       "      <td>East Peralta</td>\n",
       "      <td>268125</td>\n",
       "      <td>POLYGON ((-122.2513529469999 37.79354501800009...</td>\n",
       "      <td>37.792321</td>\n",
       "      <td>-122.254708</td>\n",
       "      <td>2200.000000</td>\n",
       "      <td>800.000000</td>\n",
       "      <td>15.462911</td>\n",
       "      <td>0.627419</td>\n",
       "    </tr>\n",
       "    <tr>\n",
       "      <th>4</th>\n",
       "      <td>CA</td>\n",
       "      <td>Alameda</td>\n",
       "      <td>Oakland</td>\n",
       "      <td>Fitchburg</td>\n",
       "      <td>268158</td>\n",
       "      <td>POLYGON ((-122.1825492669999 37.75486776300005...</td>\n",
       "      <td>37.755517</td>\n",
       "      <td>-122.187722</td>\n",
       "      <td>2500.000000</td>\n",
       "      <td>1216.000000</td>\n",
       "      <td>7.855514</td>\n",
       "      <td>0.336712</td>\n",
       "    </tr>\n",
       "  </tbody>\n",
       "</table>\n",
       "</div>"
      ],
      "text/plain": [
       "  State   County     City          Name RegionID  \\\n",
       "0    CA  Alameda  Oakland     Chinatown   114292   \n",
       "1    CA  Alameda  Oakland   Adams Point   267990   \n",
       "2    CA  Alameda  Oakland  Civic Center   268073   \n",
       "3    CA  Alameda  Oakland  East Peralta   268125   \n",
       "4    CA  Alameda  Oakland     Fitchburg   268158   \n",
       "\n",
       "                                            geometry   latitude   longitude  \\\n",
       "0  POLYGON ((-122.2700929749999 37.80135293100005...  37.799394 -122.269657   \n",
       "1  POLYGON ((-122.2493849479999 37.81247701900008...  37.812642 -122.254733   \n",
       "2  POLYGON ((-122.2629218196665 37.80108023766672...  37.799678 -122.265489   \n",
       "3  POLYGON ((-122.2513529469999 37.79354501800009...  37.792321 -122.254708   \n",
       "4  POLYGON ((-122.1825492669999 37.75486776300005...  37.755517 -122.187722   \n",
       "\n",
       "         price         sqft        no2        bc  \n",
       "0  2517.250000   811.666667  15.547257  0.527182  \n",
       "1  2915.235294  1237.909091  13.443590  0.429612  \n",
       "2  2095.000000          NaN  15.425390  0.546467  \n",
       "3  2200.000000   800.000000  15.462911  0.627419  \n",
       "4  2500.000000  1216.000000   7.855514  0.336712  "
      ]
     },
     "execution_count": 80,
     "metadata": {},
     "output_type": "execute_result"
    }
   ],
   "source": [
    "all_data.head()"
   ]
  },
  {
   "cell_type": "code",
   "execution_count": 88,
   "metadata": {},
   "outputs": [],
   "source": [
    "all_data.to_csv('neighborhood_summaries.csv')"
   ]
  },
  {
   "cell_type": "code",
   "execution_count": 82,
   "metadata": {},
   "outputs": [],
   "source": [
    "def find_nearby_neighborhoods(location, neighborhoods, buffer_dist = 0.015):\n",
    "\n",
    "    neighborhood_index = neighborhoods.sindex\n",
    "    circle = location.buffer(buffer_dist) #build a km buffer around location\n",
    "    \n",
    "    possible_matches_index = list(neighborhood_index.intersection(circle.bounds)) #get index of possible neighborhoods\n",
    "    possible_matches = neighborhoods.iloc[possible_matches_index]\n",
    "    precise_matches = possible_matches[possible_matches.intersects(circle)].copy()\n",
    "\n",
    "    return precise_matches\n",
    "\n",
    "\n",
    "def get_healthy_suggestions(location, neighborhoods, price_range = 0.2, buffer_dist = 0.015):\n",
    "    \n",
    "    #find your current neighborhood...\n",
    "    current_hood = neighborhoods[neighborhoods.intersects(location)]\n",
    "    \n",
    "    #find all neighborhoods within a mile (0.015 deg buffer)\n",
    "    nearby_hoods = find_nearby_neighborhoods(location, neighborhoods)\n",
    "    \n",
    "    #subset neighborhoods in similar price bracket (default is +/- 20%)\n",
    "    upper = 1 + price_range\n",
    "    lower = 1 - price_range\n",
    "    similar_hoods = nearby_hoods[nearby_hoods.price.between(current_hood['price'].iloc[0]*lower, \n",
    "                                                            current_hood['price'].iloc[0]*upper)]\n",
    "    \n",
    "    \n",
    "    #find which neighborhoods have lower exposures \n",
    "    healthy_hoods = similar_hoods[similar_hoods.no2 < current_hood['no2'].iloc[0]]\n",
    "    \n",
    "    #how much lower are the exposure rates?\n",
    "    healthy_hoods['percent_diff'] = (1 - (healthy_hoods['no2']/current_hood['no2'].iloc[0]))*100\n",
    "    healthy_hoods['percent_diff'] = healthy_hoods['percent_diff'].astype(int)\n",
    "    \n",
    "    return healthy_hoods"
   ]
  }
 ],
 "metadata": {
  "kernelspec": {
   "display_name": "Python 3",
   "language": "python",
   "name": "python3"
  },
  "language_info": {
   "codemirror_mode": {
    "name": "ipython",
    "version": 3
   },
   "file_extension": ".py",
   "mimetype": "text/x-python",
   "name": "python",
   "nbconvert_exporter": "python",
   "pygments_lexer": "ipython3",
   "version": "3.6.6"
  },
  "toc": {
   "base_numbering": 1,
   "nav_menu": {},
   "number_sections": true,
   "sideBar": true,
   "skip_h1_title": false,
   "title_cell": "Table of Contents",
   "title_sidebar": "Contents",
   "toc_cell": false,
   "toc_position": {},
   "toc_section_display": true,
   "toc_window_display": false
  },
  "varInspector": {
   "cols": {
    "lenName": 16,
    "lenType": 16,
    "lenVar": 40
   },
   "kernels_config": {
    "python": {
     "delete_cmd_postfix": "",
     "delete_cmd_prefix": "del ",
     "library": "var_list.py",
     "varRefreshCmd": "print(var_dic_list())"
    },
    "r": {
     "delete_cmd_postfix": ") ",
     "delete_cmd_prefix": "rm(",
     "library": "var_list.r",
     "varRefreshCmd": "cat(var_dic_list()) "
    }
   },
   "types_to_exclude": [
    "module",
    "function",
    "builtin_function_or_method",
    "instance",
    "_Feature"
   ],
   "window_display": false
  }
 },
 "nbformat": 4,
 "nbformat_minor": 2
}
