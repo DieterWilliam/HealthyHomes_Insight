{
 "cells": [
  {
   "cell_type": "code",
   "execution_count": 183,
   "metadata": {},
   "outputs": [],
   "source": [
    "from bs4 import BeautifulSoup\n",
    "import requests\n",
    "\n",
    "req_headers = {\n",
    "    'accept': 'text/html,application/xhtml+xml,application/xml;q=0.9,image/webp,image/apng,*/*;q=0.8',\n",
    "    'accept-encoding': 'gzip, deflate, br',\n",
    "    'accept-language': 'en-US,en;q=0.8',\n",
    "    'upgrade-insecure-requests': '1',\n",
    "    'user-agent': 'Mozilla/5.0 (Windows NT 10.0; Win64; x64) AppleWebKit/537.36 (KHTML, like Gecko) Chrome/61.0.3163.100 Safari/537.36'\n",
    "}\n",
    "\n",
    "def url_rent(page):\n",
    "    return 'https://www.zillow.com/homes/for_rent/Oakland-CA/all_type/13072_rid/37.971537,-121.981545,37.612327,-122.47593_rect/10_zm/' + page + '_p/'\n"
   ]
  },
  {
   "cell_type": "code",
   "execution_count": 186,
   "metadata": {},
   "outputs": [],
   "source": [
    "all_prices = []\n",
    "all_addresses = []\n",
    "\n",
    "for page in np.arange(1, 21):\n",
    "    with requests.Session() as s:\n",
    "        url = url_rent(str(page))\n",
    "        r = s.get(url, headers=req_headers)\n",
    "        \n",
    "        soup = BeautifulSoup(r.content, 'lxml')\n",
    "        price = soup.find_all('span', {'class': 'zsg-photo-card-price'})\n",
    "        address = soup.find_all('span', {'itemprop': 'address'})\n",
    "        \n",
    "        for i in np.arange(len(price)):\n",
    "            home_price = price[i].text\n",
    "            home_address = address[i].text\n",
    "            \n",
    "            all_prices.append(home_price)\n",
    "            all_addresses.append(home_address)"
   ]
  },
  {
   "cell_type": "code",
   "execution_count": 187,
   "metadata": {},
   "outputs": [
    {
     "data": {
      "text/plain": [
       "<html><head><meta content=\"noindex, nofollow\" name=\"robots\"/><script src=\"https://www.google.com/recaptcha/api.js\"></script><link href=\"https://www.zillowstatic.com/vstatic/18f7df5/static/css/z-pages/captcha.css\" media=\"screen\" rel=\"stylesheet\" type=\"text/css\"/><script>\n",
       "            function handleCaptcha(response) {\n",
       "                var vid = getQueryString(\"vid\"); // getQueryString is implemented below\n",
       "                var uuid = getQueryString(\"uuid\");\n",
       "                var name = '_pxCaptcha';\n",
       "                var cookieValue =  btoa(JSON.stringify({r:response,v:vid,u:uuid}));\n",
       "                var cookieParts = [name, '=', cookieValue, '; path=/'];\n",
       "                cookieParts.push('; domain=' + window.location.hostname);\n",
       "                cookieParts.push('; max-age=10');//expire after 10 seconds\n",
       "                document.cookie = cookieParts.join('');\n",
       "                var originalURL = getOriginalUrl(\"url\");\n",
       "                var originalHost = window.location.host;\n",
       "                var newHref = window.location.protocol + \"//\" + originalHost;\n",
       "                originalURL = originalURL || '/';\n",
       "                newHref = newHref + originalURL;\n",
       "                window.location.href = newHref;\n",
       "            }\n",
       "\n",
       "            function getQueryString(name, url) {\n",
       "                if (!url) url = window.location.href;\n",
       "                name = name.replace(/[\\[\\]]/g, \"\\\\$&\");\n",
       "                var regex = new RegExp(\"[?&]\" + name + \"(=([^&#]*)|&|#|$)\"),\n",
       "                results = regex.exec(url);\n",
       "                if (!results) return null;\n",
       "                if (!results[2]) return '';\n",
       "                return decodeURIComponent(results[2].replace(/\\+/g, \" \"));\n",
       "            }\n",
       "\n",
       "            function getOriginalUrl(name) {\n",
       "                var url = getQueryString(name);\n",
       "                if (!url) return null;\n",
       "                var regExMatcher = new RegExp(\"(([^&#@]*)|&|#|$)\");\n",
       "                var matches = regExMatcher.exec(url);\n",
       "                if (!matches) return null;\n",
       "                return matches[0];\n",
       "            }\n",
       "\n",
       "            document.addEventListener(\"DOMContentLoaded\", function (e) {\n",
       "                var uuidVerifyRegExp = /^\\{?[0-9a-fA-F]{8}-[0-9a-fA-F]{4}-[0-9a-fA-F]{4}-[0-9a-fA-F]{4}-[0-9a-fA-F]{12}\\}?$/i;\n",
       "                document.getElementById(\"uuid\").innerText = \"UUID: \" + uuidVerifyRegExp.exec(getQueryString(\"uuid\"));\n",
       "            });\n",
       "        </script></head><body><main class=\"zsg-layout-content\"><div class=\"error-content-block\"><div class=\"error-text-content\"><!-- <h1>Captcha</h1> --><h5>Please verify you're a human to continue.</h5><div class=\"captcha-container\" id=\"content\"><div class=\"g-recaptcha\" data-callback=\"handleCaptcha\" data-sitekey=\"6Lcj-R8TAAAAABs3FrRPuQhLMbp5QrHsHufzLf7b\" data-theme=\"white\"></div></div><img alt=\"Zillow\" height=\"14\" src=\"https://www.zillowstatic.com/static/logos/logo-65x14.png\" width=\"65\"/></div></div></main><h4 class=\"uuid-string zsg-fineprint\" id=\"uuid\"></h4></body></html><!-- H:027  T:4ms  S:2686  R:Wed Sep 26 20:10:36 PDT 2018  B:5.0.56469-master.7c8da2e~delivery_ready.08ee7f5 -->"
      ]
     },
     "execution_count": 187,
     "metadata": {},
     "output_type": "execute_result"
    }
   ],
   "source": [
    "soup"
   ]
  },
  {
   "cell_type": "code",
   "execution_count": 189,
   "metadata": {},
   "outputs": [],
   "source": [
    "from bs4 import BeautifulSoup\n",
    "import requests\n",
    "\n",
    "req_headers = {\n",
    "    'accept': 'text/html,application/xhtml+xml,application/xml;q=0.9,image/webp,image/apng,*/*;q=0.8',\n",
    "    'accept-encoding': 'gzip, deflate, br',\n",
    "    'accept-language': 'en-US,en;q=0.8',\n",
    "    'upgrade-insecure-requests': '1',\n",
    "    'user-agent': 'Mozilla/5.0 (Windows NT 10.0; Win64; x64) AppleWebKit/537.36 (KHTML, like Gecko) Chrome/61.0.3163.100 Safari/537.36'\n",
    "}\n",
    "\n",
    "with requests.Session() as s:\n",
    "    url = 'https://www.zillow.com/homes/for_sale/Los-Angeles-CA_rb/?fromHomePage=true&shouldFireSellPageImplicitClaimGA=false&fromHomePageTab=buy'\n",
    "    r = s.get(url, headers=req_headers)\n",
    "\n",
    "soup = BeautifulSoup(r.content, 'lxml')\n",
    "# price = soup.find('span', {'class': 'zsg-photo-card-price'}).text\n",
    "# info = soup.find('span', {'class': 'zsg-photo-card-info'}).text\n",
    "# address = soup.find('span', {'itemprop': 'address'}).text"
   ]
  },
  {
   "cell_type": "code",
   "execution_count": 190,
   "metadata": {},
   "outputs": [
    {
     "data": {
      "text/plain": [
       "<html><head><meta content=\"noindex, nofollow\" name=\"robots\"/><script src=\"https://www.google.com/recaptcha/api.js\"></script><link href=\"https://www.zillowstatic.com/vstatic/18f7df5/static/css/z-pages/captcha.css\" media=\"screen\" rel=\"stylesheet\" type=\"text/css\"/><script>\n",
       "            function handleCaptcha(response) {\n",
       "                var vid = getQueryString(\"vid\"); // getQueryString is implemented below\n",
       "                var uuid = getQueryString(\"uuid\");\n",
       "                var name = '_pxCaptcha';\n",
       "                var cookieValue =  btoa(JSON.stringify({r:response,v:vid,u:uuid}));\n",
       "                var cookieParts = [name, '=', cookieValue, '; path=/'];\n",
       "                cookieParts.push('; domain=' + window.location.hostname);\n",
       "                cookieParts.push('; max-age=10');//expire after 10 seconds\n",
       "                document.cookie = cookieParts.join('');\n",
       "                var originalURL = getOriginalUrl(\"url\");\n",
       "                var originalHost = window.location.host;\n",
       "                var newHref = window.location.protocol + \"//\" + originalHost;\n",
       "                originalURL = originalURL || '/';\n",
       "                newHref = newHref + originalURL;\n",
       "                window.location.href = newHref;\n",
       "            }\n",
       "\n",
       "            function getQueryString(name, url) {\n",
       "                if (!url) url = window.location.href;\n",
       "                name = name.replace(/[\\[\\]]/g, \"\\\\$&\");\n",
       "                var regex = new RegExp(\"[?&]\" + name + \"(=([^&#]*)|&|#|$)\"),\n",
       "                results = regex.exec(url);\n",
       "                if (!results) return null;\n",
       "                if (!results[2]) return '';\n",
       "                return decodeURIComponent(results[2].replace(/\\+/g, \" \"));\n",
       "            }\n",
       "\n",
       "            function getOriginalUrl(name) {\n",
       "                var url = getQueryString(name);\n",
       "                if (!url) return null;\n",
       "                var regExMatcher = new RegExp(\"(([^&#@]*)|&|#|$)\");\n",
       "                var matches = regExMatcher.exec(url);\n",
       "                if (!matches) return null;\n",
       "                return matches[0];\n",
       "            }\n",
       "\n",
       "            document.addEventListener(\"DOMContentLoaded\", function (e) {\n",
       "                var uuidVerifyRegExp = /^\\{?[0-9a-fA-F]{8}-[0-9a-fA-F]{4}-[0-9a-fA-F]{4}-[0-9a-fA-F]{4}-[0-9a-fA-F]{12}\\}?$/i;\n",
       "                document.getElementById(\"uuid\").innerText = \"UUID: \" + uuidVerifyRegExp.exec(getQueryString(\"uuid\"));\n",
       "            });\n",
       "        </script></head><body><main class=\"zsg-layout-content\"><div class=\"error-content-block\"><div class=\"error-text-content\"><!-- <h1>Captcha</h1> --><h5>Please verify you're a human to continue.</h5><div class=\"captcha-container\" id=\"content\"><div class=\"g-recaptcha\" data-callback=\"handleCaptcha\" data-sitekey=\"6Lcj-R8TAAAAABs3FrRPuQhLMbp5QrHsHufzLf7b\" data-theme=\"white\"></div></div><img alt=\"Zillow\" height=\"14\" src=\"https://www.zillowstatic.com/static/logos/logo-65x14.png\" width=\"65\"/></div></div></main><h4 class=\"uuid-string zsg-fineprint\" id=\"uuid\"></h4></body></html><!-- H:035  T:5ms  S:2686  R:Wed Sep 26 20:12:11 PDT 2018  B:5.0.56469-master.7c8da2e~delivery_ready.08ee7f5 -->"
      ]
     },
     "execution_count": 190,
     "metadata": {},
     "output_type": "execute_result"
    }
   ],
   "source": [
    "soup"
   ]
  },
  {
   "cell_type": "code",
   "execution_count": 129,
   "metadata": {},
   "outputs": [],
   "source": [
    "url = url_rent('10')"
   ]
  },
  {
   "cell_type": "code",
   "execution_count": 130,
   "metadata": {},
   "outputs": [
    {
     "data": {
      "text/plain": [
       "'https://www.zillow.com/homes/for_rent/37.911023,-122.124195,37.731489,-122.371387_rect/11_zm/10_p/'"
      ]
     },
     "execution_count": 130,
     "metadata": {},
     "output_type": "execute_result"
    }
   ],
   "source": [
    "url"
   ]
  },
  {
   "cell_type": "code",
   "execution_count": 131,
   "metadata": {},
   "outputs": [
    {
     "data": {
      "text/plain": [
       "'https://www.zillow.com/homes/for_rent/Oakland-CA/all_type/13072_rid/37.971537,-121.981545,37.612327,-122.47593_rect/10_zm/1_p/'"
      ]
     },
     "execution_count": 131,
     "metadata": {},
     "output_type": "execute_result"
    }
   ],
   "source": [
    "'https://www.zillow.com/homes/for_rent/Oakland-CA/all_type/13072_rid/37.971537,-121.981545,37.612327,-122.47593_rect/10_zm/1_p/'"
   ]
  },
  {
   "cell_type": "code",
   "execution_count": null,
   "metadata": {},
   "outputs": [],
   "source": []
  }
 ],
 "metadata": {
  "kernelspec": {
   "display_name": "Python 3",
   "language": "python",
   "name": "python3"
  },
  "language_info": {
   "codemirror_mode": {
    "name": "ipython",
    "version": 3
   },
   "file_extension": ".py",
   "mimetype": "text/x-python",
   "name": "python",
   "nbconvert_exporter": "python",
   "pygments_lexer": "ipython3",
   "version": "3.6.6"
  },
  "toc": {
   "base_numbering": 1,
   "nav_menu": {},
   "number_sections": true,
   "sideBar": true,
   "skip_h1_title": false,
   "title_cell": "Table of Contents",
   "title_sidebar": "Contents",
   "toc_cell": false,
   "toc_position": {},
   "toc_section_display": true,
   "toc_window_display": false
  },
  "varInspector": {
   "cols": {
    "lenName": 16,
    "lenType": 16,
    "lenVar": 40
   },
   "kernels_config": {
    "python": {
     "delete_cmd_postfix": "",
     "delete_cmd_prefix": "del ",
     "library": "var_list.py",
     "varRefreshCmd": "print(var_dic_list())"
    },
    "r": {
     "delete_cmd_postfix": ") ",
     "delete_cmd_prefix": "rm(",
     "library": "var_list.r",
     "varRefreshCmd": "cat(var_dic_list()) "
    }
   },
   "types_to_exclude": [
    "module",
    "function",
    "builtin_function_or_method",
    "instance",
    "_Feature"
   ],
   "window_display": false
  }
 },
 "nbformat": 4,
 "nbformat_minor": 2
}
