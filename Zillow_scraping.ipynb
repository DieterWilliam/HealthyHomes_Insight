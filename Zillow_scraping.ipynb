{
 "cells": [
  {
   "cell_type": "code",
   "execution_count": 89,
   "metadata": {},
   "outputs": [],
   "source": [
    "import seaborn as sns\n",
    "from itertools import chain\n",
    "import pandas as pd\n",
    "import seaborn as sns\n",
    "from shapely.geometry import Point, MultiPoint\n",
    "import geopandas as gpd\n",
    "from feature_geometries import *\n",
    "\n",
    "\n",
    "from bs4 import BeautifulSoup\n",
    "import requests"
   ]
  },
  {
   "cell_type": "code",
   "execution_count": 90,
   "metadata": {},
   "outputs": [],
   "source": [
    "req_headers = {\n",
    "    'accept': 'text/html,application/xhtml+xml,application/xml;q=0.9,image/webp,image/apng,*/*;q=0.8',\n",
    "    'accept-encoding': 'gzip, deflate, br',\n",
    "    'accept-language': 'en-US,en;q=0.8',\n",
    "    'upgrade-insecure-requests': '1',\n",
    "    'user-agent': 'Mozilla/5.0 (Windows NT 10.0; Win64; x64) AppleWebKit/537.36 (KHTML, like Gecko) Chrome/61.0.3163.100 Safari/537.36'\n",
    "}\n",
    "\n",
    "def url_rent(page):\n",
    "    return 'https://www.zillow.com/homes/for_rent/Oakland-CA/all_type/13072_rid/37.971537,-121.981545,37.612327,-122.47593_rect/10_zm/' + page + '_p/'\n"
   ]
  },
  {
   "cell_type": "code",
   "execution_count": 91,
   "metadata": {},
   "outputs": [],
   "source": [
    "all_addresses = []\n",
    "all_characteristics = []\n",
    "all_prices = []\n",
    "all_lats = []\n",
    "all_longs = []\n",
    "\n",
    "for page in np.arange(1, 40):\n",
    "    with requests.Session() as s:\n",
    "        url = url_rent(str(page))\n",
    "        r = s.get(url, headers=req_headers)\n",
    "        \n",
    "        soup = BeautifulSoup(r.content, 'lxml')\n",
    "        \n",
    "        address = soup.find_all('span', {'itemprop': 'address'})\n",
    "        characteristics = soup.find_all('span', {'class': 'zsg-photo-card-info'})\n",
    "        price = soup.find_all('span', {'class': 'zsg-photo-card-price'})\n",
    "        \n",
    "        address_list = [value.text for value in address]\n",
    "        char_list = [value.text for value in characteristics]\n",
    "        price_list = [value.text for value in price]\n",
    "        lat_list = [item['content'] for item in soup('meta') \n",
    "               if item.has_attr('itemprop') and item.attrs['itemprop']  == 'latitude']\n",
    "        long_list = [item['content'] for item in soup('meta') \n",
    "               if item.has_attr('itemprop') and item.attrs['itemprop']  == 'longitude']\n",
    "        \n",
    "        # add to master list\n",
    "        all_addresses.append(address_list)\n",
    "        all_characteristics.append(char_list)\n",
    "        all_prices.append(price_list)\n",
    "        all_lats.append(lat_list)\n",
    "        all_longs.append(long_list)\n",
    "\n"
   ]
  },
  {
   "cell_type": "code",
   "execution_count": 92,
   "metadata": {},
   "outputs": [
    {
     "ename": "AttributeError",
     "evalue": "Can only use .str accessor with string values, which use np.object_ dtype in pandas",
     "output_type": "error",
     "traceback": [
      "\u001b[0;31m---------------------------------------------------------------------------\u001b[0m",
      "\u001b[0;31mAttributeError\u001b[0m                            Traceback (most recent call last)",
      "\u001b[0;32m<ipython-input-92-6320d2b9b0ca>\u001b[0m in \u001b[0;36m<module>\u001b[0;34m()\u001b[0m\n\u001b[1;32m     14\u001b[0m     })\n\u001b[1;32m     15\u001b[0m \u001b[0;34m\u001b[0m\u001b[0m\n\u001b[0;32m---> 16\u001b[0;31m \u001b[0mAll_rentals\u001b[0m\u001b[0;34m[\u001b[0m\u001b[0;34m[\u001b[0m\u001b[0;34m'beds'\u001b[0m\u001b[0;34m,\u001b[0m \u001b[0;34m'baths'\u001b[0m\u001b[0;34m,\u001b[0m \u001b[0;34m'sqft'\u001b[0m\u001b[0;34m]\u001b[0m\u001b[0;34m]\u001b[0m \u001b[0;34m=\u001b[0m \u001b[0mAll_rentals\u001b[0m\u001b[0;34m[\u001b[0m\u001b[0;34m'characteristics'\u001b[0m\u001b[0;34m]\u001b[0m\u001b[0;34m.\u001b[0m\u001b[0mstr\u001b[0m\u001b[0;34m.\u001b[0m\u001b[0msplit\u001b[0m\u001b[0;34m(\u001b[0m\u001b[0;34m'·\\s+'\u001b[0m\u001b[0;34m,\u001b[0m \u001b[0mexpand\u001b[0m\u001b[0;34m=\u001b[0m\u001b[0;32mTrue\u001b[0m\u001b[0;34m)\u001b[0m\u001b[0;34m\u001b[0m\u001b[0m\n\u001b[0m\u001b[1;32m     17\u001b[0m \u001b[0mAll_rentals\u001b[0m \u001b[0;34m=\u001b[0m \u001b[0mAll_rentals\u001b[0m\u001b[0;34m.\u001b[0m\u001b[0mdrop\u001b[0m\u001b[0;34m(\u001b[0m\u001b[0;34m'characteristics'\u001b[0m\u001b[0;34m,\u001b[0m \u001b[0maxis\u001b[0m\u001b[0;34m=\u001b[0m\u001b[0;36m1\u001b[0m\u001b[0;34m)\u001b[0m\u001b[0;34m\u001b[0m\u001b[0m\n\u001b[1;32m     18\u001b[0m \u001b[0;34m\u001b[0m\u001b[0m\n",
      "\u001b[0;32m/anaconda3/envs/OSMNX/lib/python3.6/site-packages/pandas/core/generic.py\u001b[0m in \u001b[0;36m__getattr__\u001b[0;34m(self, name)\u001b[0m\n\u001b[1;32m   4370\u001b[0m         if (name in self._internal_names_set or name in self._metadata or\n\u001b[1;32m   4371\u001b[0m                 name in self._accessors):\n\u001b[0;32m-> 4372\u001b[0;31m             \u001b[0;32mreturn\u001b[0m \u001b[0mobject\u001b[0m\u001b[0;34m.\u001b[0m\u001b[0m__getattribute__\u001b[0m\u001b[0;34m(\u001b[0m\u001b[0mself\u001b[0m\u001b[0;34m,\u001b[0m \u001b[0mname\u001b[0m\u001b[0;34m)\u001b[0m\u001b[0;34m\u001b[0m\u001b[0m\n\u001b[0m\u001b[1;32m   4373\u001b[0m         \u001b[0;32melse\u001b[0m\u001b[0;34m:\u001b[0m\u001b[0;34m\u001b[0m\u001b[0m\n\u001b[1;32m   4374\u001b[0m             \u001b[0;32mif\u001b[0m \u001b[0mself\u001b[0m\u001b[0;34m.\u001b[0m\u001b[0m_info_axis\u001b[0m\u001b[0;34m.\u001b[0m\u001b[0m_can_hold_identifiers_and_holds_name\u001b[0m\u001b[0;34m(\u001b[0m\u001b[0mname\u001b[0m\u001b[0;34m)\u001b[0m\u001b[0;34m:\u001b[0m\u001b[0;34m\u001b[0m\u001b[0m\n",
      "\u001b[0;32m/anaconda3/envs/OSMNX/lib/python3.6/site-packages/pandas/core/accessor.py\u001b[0m in \u001b[0;36m__get__\u001b[0;34m(self, obj, cls)\u001b[0m\n\u001b[1;32m    131\u001b[0m             \u001b[0;31m# we're accessing the attribute of the class, i.e., Dataset.geo\u001b[0m\u001b[0;34m\u001b[0m\u001b[0;34m\u001b[0m\u001b[0m\n\u001b[1;32m    132\u001b[0m             \u001b[0;32mreturn\u001b[0m \u001b[0mself\u001b[0m\u001b[0;34m.\u001b[0m\u001b[0m_accessor\u001b[0m\u001b[0;34m\u001b[0m\u001b[0m\n\u001b[0;32m--> 133\u001b[0;31m         \u001b[0maccessor_obj\u001b[0m \u001b[0;34m=\u001b[0m \u001b[0mself\u001b[0m\u001b[0;34m.\u001b[0m\u001b[0m_accessor\u001b[0m\u001b[0;34m(\u001b[0m\u001b[0mobj\u001b[0m\u001b[0;34m)\u001b[0m\u001b[0;34m\u001b[0m\u001b[0m\n\u001b[0m\u001b[1;32m    134\u001b[0m         \u001b[0;31m# Replace the property with the accessor object. Inspired by:\u001b[0m\u001b[0;34m\u001b[0m\u001b[0;34m\u001b[0m\u001b[0m\n\u001b[1;32m    135\u001b[0m         \u001b[0;31m# http://www.pydanny.com/cached-property.html\u001b[0m\u001b[0;34m\u001b[0m\u001b[0;34m\u001b[0m\u001b[0m\n",
      "\u001b[0;32m/anaconda3/envs/OSMNX/lib/python3.6/site-packages/pandas/core/strings.py\u001b[0m in \u001b[0;36m__init__\u001b[0;34m(self, data)\u001b[0m\n\u001b[1;32m   1893\u001b[0m \u001b[0;34m\u001b[0m\u001b[0m\n\u001b[1;32m   1894\u001b[0m     \u001b[0;32mdef\u001b[0m \u001b[0m__init__\u001b[0m\u001b[0;34m(\u001b[0m\u001b[0mself\u001b[0m\u001b[0;34m,\u001b[0m \u001b[0mdata\u001b[0m\u001b[0;34m)\u001b[0m\u001b[0;34m:\u001b[0m\u001b[0;34m\u001b[0m\u001b[0m\n\u001b[0;32m-> 1895\u001b[0;31m         \u001b[0mself\u001b[0m\u001b[0;34m.\u001b[0m\u001b[0m_validate\u001b[0m\u001b[0;34m(\u001b[0m\u001b[0mdata\u001b[0m\u001b[0;34m)\u001b[0m\u001b[0;34m\u001b[0m\u001b[0m\n\u001b[0m\u001b[1;32m   1896\u001b[0m         \u001b[0mself\u001b[0m\u001b[0;34m.\u001b[0m\u001b[0m_is_categorical\u001b[0m \u001b[0;34m=\u001b[0m \u001b[0mis_categorical_dtype\u001b[0m\u001b[0;34m(\u001b[0m\u001b[0mdata\u001b[0m\u001b[0;34m)\u001b[0m\u001b[0;34m\u001b[0m\u001b[0m\n\u001b[1;32m   1897\u001b[0m \u001b[0;34m\u001b[0m\u001b[0m\n",
      "\u001b[0;32m/anaconda3/envs/OSMNX/lib/python3.6/site-packages/pandas/core/strings.py\u001b[0m in \u001b[0;36m_validate\u001b[0;34m(data)\u001b[0m\n\u001b[1;32m   1915\u001b[0m             \u001b[0;31m# (instead of test for object dtype), but that isn't practical for\u001b[0m\u001b[0;34m\u001b[0m\u001b[0;34m\u001b[0m\u001b[0m\n\u001b[1;32m   1916\u001b[0m             \u001b[0;31m# performance reasons until we have a str dtype (GH 9343)\u001b[0m\u001b[0;34m\u001b[0m\u001b[0;34m\u001b[0m\u001b[0m\n\u001b[0;32m-> 1917\u001b[0;31m             raise AttributeError(\"Can only use .str accessor with string \"\n\u001b[0m\u001b[1;32m   1918\u001b[0m                                  \u001b[0;34m\"values, which use np.object_ dtype in \"\u001b[0m\u001b[0;34m\u001b[0m\u001b[0m\n\u001b[1;32m   1919\u001b[0m                                  \"pandas\")\n",
      "\u001b[0;31mAttributeError\u001b[0m: Can only use .str accessor with string values, which use np.object_ dtype in pandas"
     ]
    }
   ],
   "source": [
    "from itertools import chain\n",
    "import pandas as pd\n",
    "\n",
    "#clean the characteristics columns for erroneous price data\n",
    "characteristics = list(chain.from_iterable(all_characteristics))\n",
    "characteristics = [value for value in characteristics if not ('$' in value)]\n",
    "\n",
    "All_rentals = pd.DataFrame(\n",
    "    {'address': list(chain.from_iterable(all_addresses)),\n",
    "     'latitude': list(chain.from_iterable(all_lats)),\n",
    "     'longitude': list(chain.from_iterable(all_longs)),\n",
    "     'price': list(chain.from_iterable(all_prices)),\n",
    "     'characteristics': characteristics \n",
    "    })\n",
    "\n",
    "All_rentals[['beds', 'baths', 'sqft']] = All_rentals['characteristics'].str.split('·\\s+', expand=True)\n",
    "All_rentals = All_rentals.drop('characteristics', axis=1)\n",
    "\n",
    "#clean up the columns...\n",
    "All_rentals['price'] = All_rentals.price.str.strip('$/mo')\n",
    "All_rentals['price'] = All_rentals.price.str.replace(',', '')\n",
    "All_rentals['price'] = All_rentals.price.str.replace('+', '').astype(int)\n",
    "\n",
    "All_rentals['sqft'] = All_rentals.sqft.str.replace('sqft', '')\n",
    "All_rentals['sqft'] = All_rentals.sqft.str.replace('--', '0')\n",
    "All_rentals['sqft'] = All_rentals.sqft.str.replace(',', '').astype(int)\n",
    "All_rentals['sqft'] = All_rentals.sqft.replace(0, np.nan)\n",
    "\n",
    "All_rentals['latitude'] = All_rentals.latitude.astype(float)\n",
    "All_rentals['longitude'] = All_rentals.longitude.astype(float)\n",
    "\n",
    "# convert to geo dataframe\n",
    "geometry = [Point(xy) for xy in zip(All_rentals.longitude, All_rentals.latitude)]\n",
    "All_rentals = gpd.GeoDataFrame(All_rentals, geometry=geometry, crs={'init' :'epsg:4326'}) #Mercator lat long input"
   ]
  },
  {
   "cell_type": "code",
   "execution_count": 93,
   "metadata": {},
   "outputs": [
    {
     "data": {
      "text/plain": [
       "[[],\n",
       " [],\n",
       " [],\n",
       " [],\n",
       " [],\n",
       " [],\n",
       " [],\n",
       " [],\n",
       " [],\n",
       " [],\n",
       " [],\n",
       " [],\n",
       " [],\n",
       " [],\n",
       " [],\n",
       " [],\n",
       " [],\n",
       " [],\n",
       " [],\n",
       " [],\n",
       " [],\n",
       " [],\n",
       " [],\n",
       " [],\n",
       " [],\n",
       " [],\n",
       " [],\n",
       " [],\n",
       " [],\n",
       " [],\n",
       " [],\n",
       " [],\n",
       " [],\n",
       " [],\n",
       " [],\n",
       " [],\n",
       " [],\n",
       " [],\n",
       " []]"
      ]
     },
     "execution_count": 93,
     "metadata": {},
     "output_type": "execute_result"
    }
   ],
   "source": [
    "print(All_rentals.shape)\n",
    "All_rentals.plot();"
   ]
  },
  {
   "cell_type": "code",
   "execution_count": 70,
   "metadata": {},
   "outputs": [
    {
     "data": {
      "text/html": [
       "<div>\n",
       "<style scoped>\n",
       "    .dataframe tbody tr th:only-of-type {\n",
       "        vertical-align: middle;\n",
       "    }\n",
       "\n",
       "    .dataframe tbody tr th {\n",
       "        vertical-align: top;\n",
       "    }\n",
       "\n",
       "    .dataframe thead th {\n",
       "        text-align: right;\n",
       "    }\n",
       "</style>\n",
       "<table border=\"1\" class=\"dataframe\">\n",
       "  <thead>\n",
       "    <tr style=\"text-align: right;\">\n",
       "      <th></th>\n",
       "      <th>State</th>\n",
       "      <th>County</th>\n",
       "      <th>City</th>\n",
       "      <th>Name</th>\n",
       "      <th>RegionID</th>\n",
       "      <th>geometry</th>\n",
       "    </tr>\n",
       "  </thead>\n",
       "  <tbody>\n",
       "    <tr>\n",
       "      <th>24</th>\n",
       "      <td>CA</td>\n",
       "      <td>Alameda</td>\n",
       "      <td>Oakland</td>\n",
       "      <td>Chinatown</td>\n",
       "      <td>114292</td>\n",
       "      <td>POLYGON ((-122.2700929749999 37.80135293100005...</td>\n",
       "    </tr>\n",
       "    <tr>\n",
       "      <th>273</th>\n",
       "      <td>CA</td>\n",
       "      <td>Alameda</td>\n",
       "      <td>Oakland</td>\n",
       "      <td>Adams Point</td>\n",
       "      <td>267990</td>\n",
       "      <td>POLYGON ((-122.2493849479999 37.81247701900008...</td>\n",
       "    </tr>\n",
       "    <tr>\n",
       "      <th>283</th>\n",
       "      <td>CA</td>\n",
       "      <td>Alameda</td>\n",
       "      <td>Oakland</td>\n",
       "      <td>Civic Center</td>\n",
       "      <td>268073</td>\n",
       "      <td>POLYGON ((-122.2629218196665 37.80108023766672...</td>\n",
       "    </tr>\n",
       "    <tr>\n",
       "      <th>291</th>\n",
       "      <td>CA</td>\n",
       "      <td>Alameda</td>\n",
       "      <td>Oakland</td>\n",
       "      <td>East Peralta</td>\n",
       "      <td>268125</td>\n",
       "      <td>POLYGON ((-122.2513529469999 37.79354501800009...</td>\n",
       "    </tr>\n",
       "    <tr>\n",
       "      <th>294</th>\n",
       "      <td>CA</td>\n",
       "      <td>Alameda</td>\n",
       "      <td>Oakland</td>\n",
       "      <td>Elmhurst Park</td>\n",
       "      <td>268142</td>\n",
       "      <td>POLYGON ((-122.1710949479999 37.74504101800005...</td>\n",
       "    </tr>\n",
       "  </tbody>\n",
       "</table>\n",
       "</div>"
      ],
      "text/plain": [
       "    State   County     City           Name RegionID  \\\n",
       "24     CA  Alameda  Oakland      Chinatown   114292   \n",
       "273    CA  Alameda  Oakland    Adams Point   267990   \n",
       "283    CA  Alameda  Oakland   Civic Center   268073   \n",
       "291    CA  Alameda  Oakland   East Peralta   268125   \n",
       "294    CA  Alameda  Oakland  Elmhurst Park   268142   \n",
       "\n",
       "                                              geometry  \n",
       "24   POLYGON ((-122.2700929749999 37.80135293100005...  \n",
       "273  POLYGON ((-122.2493849479999 37.81247701900008...  \n",
       "283  POLYGON ((-122.2629218196665 37.80108023766672...  \n",
       "291  POLYGON ((-122.2513529469999 37.79354501800009...  \n",
       "294  POLYGON ((-122.1710949479999 37.74504101800005...  "
      ]
     },
     "execution_count": 70,
     "metadata": {},
     "output_type": "execute_result"
    }
   ],
   "source": [
    "#import neighborhood data\n",
    "neighborhoods = gpd.read_file(\"data/ZillowNeighborhoods-CA/ZillowNeighborhoods-CA.shp\")\n",
    "oakland_neighborhoods = neighborhoods[neighborhoods.City == \"Oakland\"]\n",
    "oakland_neighborhoods.head()"
   ]
  },
  {
   "cell_type": "code",
   "execution_count": 71,
   "metadata": {},
   "outputs": [
    {
     "data": {
      "text/plain": [
       "<matplotlib.axes._subplots.AxesSubplot at 0x1a285ce128>"
      ]
     },
     "execution_count": 71,
     "metadata": {},
     "output_type": "execute_result"
    },
    {
     "data": {
      "image/png": "[encoded data removed]",
      "text/plain": [
       "<Figure size 432x288 with 1 Axes>"
      ]
     },
     "metadata": {
      "needs_background": "light"
     },
     "output_type": "display_data"
    }
   ],
   "source": [
    "oakland_neighborhoods.plot()"
   ]
  },
  {
   "cell_type": "code",
   "execution_count": 72,
   "metadata": {},
   "outputs": [
    {
     "name": "stderr",
     "output_type": "stream",
     "text": [
      "/anaconda3/envs/OSMNX/lib/python3.6/site-packages/geopandas/tools/sjoin.py:44: UserWarning: CRS of frames being joined does not match!\n",
      "  warn('CRS of frames being joined does not match!')\n"
     ]
    }
   ],
   "source": [
    "rentals_by_zone = gpd.sjoin(Oakland_rentals, oakland_neighborhoods, how='left', op='intersects')"
   ]
  },
  {
   "cell_type": "code",
   "execution_count": 75,
   "metadata": {},
   "outputs": [
    {
     "data": {
      "text/html": [
       "<div>\n",
       "<style scoped>\n",
       "    .dataframe tbody tr th:only-of-type {\n",
       "        vertical-align: middle;\n",
       "    }\n",
       "\n",
       "    .dataframe tbody tr th {\n",
       "        vertical-align: top;\n",
       "    }\n",
       "\n",
       "    .dataframe thead th {\n",
       "        text-align: right;\n",
       "    }\n",
       "</style>\n",
       "<table border=\"1\" class=\"dataframe\">\n",
       "  <thead>\n",
       "    <tr style=\"text-align: right;\">\n",
       "      <th></th>\n",
       "      <th>Name</th>\n",
       "      <th>latitude</th>\n",
       "      <th>longitude</th>\n",
       "      <th>price</th>\n",
       "      <th>sqft</th>\n",
       "    </tr>\n",
       "  </thead>\n",
       "  <tbody>\n",
       "    <tr>\n",
       "      <th>0</th>\n",
       "      <td>Adams Point</td>\n",
       "      <td>37.812642</td>\n",
       "      <td>-122.254733</td>\n",
       "      <td>2915.235294</td>\n",
       "      <td>1237.909091</td>\n",
       "    </tr>\n",
       "    <tr>\n",
       "      <th>1</th>\n",
       "      <td>Allendale</td>\n",
       "      <td>37.787097</td>\n",
       "      <td>-122.204082</td>\n",
       "      <td>2537.166667</td>\n",
       "      <td>733.000000</td>\n",
       "    </tr>\n",
       "    <tr>\n",
       "      <th>2</th>\n",
       "      <td>Arroyo Viejo</td>\n",
       "      <td>37.761561</td>\n",
       "      <td>-122.178430</td>\n",
       "      <td>2148.333333</td>\n",
       "      <td>892.500000</td>\n",
       "    </tr>\n",
       "    <tr>\n",
       "      <th>3</th>\n",
       "      <td>Bartlett</td>\n",
       "      <td>37.789651</td>\n",
       "      <td>-122.209541</td>\n",
       "      <td>3021.250000</td>\n",
       "      <td>1283.333333</td>\n",
       "    </tr>\n",
       "    <tr>\n",
       "      <th>4</th>\n",
       "      <td>Bella Vista</td>\n",
       "      <td>37.800776</td>\n",
       "      <td>-122.237120</td>\n",
       "      <td>4950.000000</td>\n",
       "      <td>2400.000000</td>\n",
       "    </tr>\n",
       "  </tbody>\n",
       "</table>\n",
       "</div>"
      ],
      "text/plain": [
       "           Name   latitude   longitude        price         sqft\n",
       "0   Adams Point  37.812642 -122.254733  2915.235294  1237.909091\n",
       "1     Allendale  37.787097 -122.204082  2537.166667   733.000000\n",
       "2  Arroyo Viejo  37.761561 -122.178430  2148.333333   892.500000\n",
       "3      Bartlett  37.789651 -122.209541  3021.250000  1283.333333\n",
       "4   Bella Vista  37.800776 -122.237120  4950.000000  2400.000000"
      ]
     },
     "execution_count": 75,
     "metadata": {},
     "output_type": "execute_result"
    }
   ],
   "source": [
    "neighborhoods = rentals_by_zone.groupby('Name').mean()\n",
    "neighborhoods.drop(['index_right'], inplace = True, axis=1)\n",
    "neighborhoods.reset_index(inplace = True)\n",
    "neighborhoods.head()"
   ]
  },
  {
   "cell_type": "code",
   "execution_count": 76,
   "metadata": {},
   "outputs": [
    {
     "name": "stderr",
     "output_type": "stream",
     "text": [
      "/anaconda3/envs/OSMNX/lib/python3.6/site-packages/geopandas/tools/sjoin.py:44: UserWarning: CRS of frames being joined does not match!\n",
      "  warn('CRS of frames being joined does not match!')\n"
     ]
    }
   ],
   "source": [
    "#import heatmap data to get average exposures by neighborhood\n",
    "heatmap = import_gpd('data/app/heatmap.csv')\n",
    "pollution_by_zone = gpd.sjoin(heatmap, oakland_neighborhoods, how='inner', op='intersects')"
   ]
  },
  {
   "cell_type": "code",
   "execution_count": 77,
   "metadata": {},
   "outputs": [
    {
     "data": {
      "text/html": [
       "<div>\n",
       "<style scoped>\n",
       "    .dataframe tbody tr th:only-of-type {\n",
       "        vertical-align: middle;\n",
       "    }\n",
       "\n",
       "    .dataframe tbody tr th {\n",
       "        vertical-align: top;\n",
       "    }\n",
       "\n",
       "    .dataframe thead th {\n",
       "        text-align: right;\n",
       "    }\n",
       "</style>\n",
       "<table border=\"1\" class=\"dataframe\">\n",
       "  <thead>\n",
       "    <tr style=\"text-align: right;\">\n",
       "      <th></th>\n",
       "      <th>Name</th>\n",
       "      <th>no2</th>\n",
       "      <th>bc</th>\n",
       "    </tr>\n",
       "  </thead>\n",
       "  <tbody>\n",
       "    <tr>\n",
       "      <th>0</th>\n",
       "      <td>Acorn</td>\n",
       "      <td>15.541501</td>\n",
       "      <td>0.516278</td>\n",
       "    </tr>\n",
       "    <tr>\n",
       "      <th>1</th>\n",
       "      <td>Acorn Industrial</td>\n",
       "      <td>22.539082</td>\n",
       "      <td>0.873373</td>\n",
       "    </tr>\n",
       "    <tr>\n",
       "      <th>2</th>\n",
       "      <td>Adams Point</td>\n",
       "      <td>13.443590</td>\n",
       "      <td>0.429612</td>\n",
       "    </tr>\n",
       "    <tr>\n",
       "      <th>3</th>\n",
       "      <td>Allendale</td>\n",
       "      <td>9.813637</td>\n",
       "      <td>0.321972</td>\n",
       "    </tr>\n",
       "    <tr>\n",
       "      <th>4</th>\n",
       "      <td>Arrowhead Marsh</td>\n",
       "      <td>13.532892</td>\n",
       "      <td>0.659737</td>\n",
       "    </tr>\n",
       "  </tbody>\n",
       "</table>\n",
       "</div>"
      ],
      "text/plain": [
       "               Name        no2        bc\n",
       "0             Acorn  15.541501  0.516278\n",
       "1  Acorn Industrial  22.539082  0.873373\n",
       "2       Adams Point  13.443590  0.429612\n",
       "3         Allendale   9.813637  0.321972\n",
       "4   Arrowhead Marsh  13.532892  0.659737"
      ]
     },
     "execution_count": 77,
     "metadata": {},
     "output_type": "execute_result"
    }
   ],
   "source": [
    "pollution = pollution_by_zone.groupby('Name')['no2', 'bc'].mean()\n",
    "pollution.reset_index(inplace = True)\n",
    "pollution.head()"
   ]
  },
  {
   "cell_type": "code",
   "execution_count": 78,
   "metadata": {},
   "outputs": [],
   "source": [
    "all_data = neighborhoods.merge(pollution, on='Name')\n",
    "all_data = oakland_neighborhoods.merge(all_data, on='Name')"
   ]
  },
  {
   "cell_type": "code",
   "execution_count": 80,
   "metadata": {},
   "outputs": [
    {
     "data": {
      "text/html": [
       "<div>\n",
       "<style scoped>\n",
       "    .dataframe tbody tr th:only-of-type {\n",
       "        vertical-align: middle;\n",
       "    }\n",
       "\n",
       "    .dataframe tbody tr th {\n",
       "        vertical-align: top;\n",
       "    }\n",
       "\n",
       "    .dataframe thead th {\n",
       "        text-align: right;\n",
       "    }\n",
       "</style>\n",
       "<table border=\"1\" class=\"dataframe\">\n",
       "  <thead>\n",
       "    <tr style=\"text-align: right;\">\n",
       "      <th></th>\n",
       "      <th>State</th>\n",
       "      <th>County</th>\n",
       "      <th>City</th>\n",
       "      <th>Name</th>\n",
       "      <th>RegionID</th>\n",
       "      <th>geometry</th>\n",
       "      <th>latitude</th>\n",
       "      <th>longitude</th>\n",
       "      <th>price</th>\n",
       "      <th>sqft</th>\n",
       "      <th>no2</th>\n",
       "      <th>bc</th>\n",
       "    </tr>\n",
       "  </thead>\n",
       "  <tbody>\n",
       "    <tr>\n",
       "      <th>0</th>\n",
       "      <td>CA</td>\n",
       "      <td>Alameda</td>\n",
       "      <td>Oakland</td>\n",
       "      <td>Chinatown</td>\n",
       "      <td>114292</td>\n",
       "      <td>POLYGON ((-122.2700929749999 37.80135293100005...</td>\n",
       "      <td>37.799394</td>\n",
       "      <td>-122.269657</td>\n",
       "      <td>2517.250000</td>\n",
       "      <td>811.666667</td>\n",
       "      <td>15.547257</td>\n",
       "      <td>0.527182</td>\n",
       "    </tr>\n",
       "    <tr>\n",
       "      <th>1</th>\n",
       "      <td>CA</td>\n",
       "      <td>Alameda</td>\n",
       "      <td>Oakland</td>\n",
       "      <td>Adams Point</td>\n",
       "      <td>267990</td>\n",
       "      <td>POLYGON ((-122.2493849479999 37.81247701900008...</td>\n",
       "      <td>37.812642</td>\n",
       "      <td>-122.254733</td>\n",
       "      <td>2915.235294</td>\n",
       "      <td>1237.909091</td>\n",
       "      <td>13.443590</td>\n",
       "      <td>0.429612</td>\n",
       "    </tr>\n",
       "    <tr>\n",
       "      <th>2</th>\n",
       "      <td>CA</td>\n",
       "      <td>Alameda</td>\n",
       "      <td>Oakland</td>\n",
       "      <td>Civic Center</td>\n",
       "      <td>268073</td>\n",
       "      <td>POLYGON ((-122.2629218196665 37.80108023766672...</td>\n",
       "      <td>37.799678</td>\n",
       "      <td>-122.265489</td>\n",
       "      <td>2095.000000</td>\n",
       "      <td>NaN</td>\n",
       "      <td>15.425390</td>\n",
       "      <td>0.546467</td>\n",
       "    </tr>\n",
       "    <tr>\n",
       "      <th>3</th>\n",
       "      <td>CA</td>\n",
       "      <td>Alameda</td>\n",
       "      <td>Oakland</td>\n",
       "      <td>East Peralta</td>\n",
       "      <td>268125</td>\n",
       "      <td>POLYGON ((-122.2513529469999 37.79354501800009...</td>\n",
       "      <td>37.792321</td>\n",
       "      <td>-122.254708</td>\n",
       "      <td>2200.000000</td>\n",
       "      <td>800.000000</td>\n",
       "      <td>15.462911</td>\n",
       "      <td>0.627419</td>\n",
       "    </tr>\n",
       "    <tr>\n",
       "      <th>4</th>\n",
       "      <td>CA</td>\n",
       "      <td>Alameda</td>\n",
       "      <td>Oakland</td>\n",
       "      <td>Fitchburg</td>\n",
       "      <td>268158</td>\n",
       "      <td>POLYGON ((-122.1825492669999 37.75486776300005...</td>\n",
       "      <td>37.755517</td>\n",
       "      <td>-122.187722</td>\n",
       "      <td>2500.000000</td>\n",
       "      <td>1216.000000</td>\n",
       "      <td>7.855514</td>\n",
       "      <td>0.336712</td>\n",
       "    </tr>\n",
       "  </tbody>\n",
       "</table>\n",
       "</div>"
      ],
      "text/plain": [
       "  State   County     City          Name RegionID  \\\n",
       "0    CA  Alameda  Oakland     Chinatown   114292   \n",
       "1    CA  Alameda  Oakland   Adams Point   267990   \n",
       "2    CA  Alameda  Oakland  Civic Center   268073   \n",
       "3    CA  Alameda  Oakland  East Peralta   268125   \n",
       "4    CA  Alameda  Oakland     Fitchburg   268158   \n",
       "\n",
       "                                            geometry   latitude   longitude  \\\n",
       "0  POLYGON ((-122.2700929749999 37.80135293100005...  37.799394 -122.269657   \n",
       "1  POLYGON ((-122.2493849479999 37.81247701900008...  37.812642 -122.254733   \n",
       "2  POLYGON ((-122.2629218196665 37.80108023766672...  37.799678 -122.265489   \n",
       "3  POLYGON ((-122.2513529469999 37.79354501800009...  37.792321 -122.254708   \n",
       "4  POLYGON ((-122.1825492669999 37.75486776300005...  37.755517 -122.187722   \n",
       "\n",
       "         price         sqft        no2        bc  \n",
       "0  2517.250000   811.666667  15.547257  0.527182  \n",
       "1  2915.235294  1237.909091  13.443590  0.429612  \n",
       "2  2095.000000          NaN  15.425390  0.546467  \n",
       "3  2200.000000   800.000000  15.462911  0.627419  \n",
       "4  2500.000000  1216.000000   7.855514  0.336712  "
      ]
     },
     "execution_count": 80,
     "metadata": {},
     "output_type": "execute_result"
    }
   ],
   "source": [
    "all_data.head()"
   ]
  },
  {
   "cell_type": "code",
   "execution_count": 88,
   "metadata": {},
   "outputs": [],
   "source": [
    "all_data.to_csv('neighborhood_summaries.csv')"
   ]
  },
  {
   "cell_type": "code",
   "execution_count": 82,
   "metadata": {},
   "outputs": [],
   "source": [
    "def find_nearby_neighborhoods(location, neighborhoods, buffer_dist = 0.015):\n",
    "\n",
    "    neighborhood_index = neighborhoods.sindex\n",
    "    circle = location.buffer(buffer_dist) #build a km buffer around location\n",
    "    \n",
    "    possible_matches_index = list(neighborhood_index.intersection(circle.bounds)) #get index of possible neighborhoods\n",
    "    possible_matches = neighborhoods.iloc[possible_matches_index]\n",
    "    precise_matches = possible_matches[possible_matches.intersects(circle)].copy()\n",
    "\n",
    "    return precise_matches\n",
    "\n",
    "\n",
    "def get_healthy_suggestions(location, neighborhoods, price_range = 0.2, buffer_dist = 0.015):\n",
    "    \n",
    "    #find your current neighborhood...\n",
    "    current_hood = neighborhoods[neighborhoods.intersects(location)]\n",
    "    \n",
    "    #find all neighborhoods within a mile (0.015 deg buffer)\n",
    "    nearby_hoods = find_nearby_neighborhoods(location, neighborhoods)\n",
    "    \n",
    "    #subset neighborhoods in similar price bracket (default is +/- 20%)\n",
    "    upper = 1 + price_range\n",
    "    lower = 1 - price_range\n",
    "    similar_hoods = nearby_hoods[nearby_hoods.price.between(current_hood['price'].iloc[0]*lower, \n",
    "                                                            current_hood['price'].iloc[0]*upper)]\n",
    "    \n",
    "    \n",
    "    #find which neighborhoods have lower exposures \n",
    "    healthy_hoods = similar_hoods[similar_hoods.no2 < current_hood['no2'].iloc[0]]\n",
    "    \n",
    "    #how much lower are the exposure rates?\n",
    "    healthy_hoods['percent_diff'] = (1 - (healthy_hoods['no2']/current_hood['no2'].iloc[0]))*100\n",
    "    healthy_hoods['percent_diff'] = healthy_hoods['percent_diff'].astype(int)\n",
    "    \n",
    "    return healthy_hoods"
   ]
  }
 ],
 "metadata": {
  "kernelspec": {
   "display_name": "Python 3",
   "language": "python",
   "name": "python3"
  },
  "language_info": {
   "codemirror_mode": {
    "name": "ipython",
    "version": 3
   },
   "file_extension": ".py",
   "mimetype": "text/x-python",
   "name": "python",
   "nbconvert_exporter": "python",
   "pygments_lexer": "ipython3",
   "version": "3.6.6"
  },
  "toc": {
   "base_numbering": 1,
   "nav_menu": {},
   "number_sections": true,
   "sideBar": true,
   "skip_h1_title": false,
   "title_cell": "Table of Contents",
   "title_sidebar": "Contents",
   "toc_cell": false,
   "toc_position": {},
   "toc_section_display": true,
   "toc_window_display": false
  },
  "varInspector": {
   "cols": {
    "lenName": 16,
    "lenType": 16,
    "lenVar": 40
   },
   "kernels_config": {
    "python": {
     "delete_cmd_postfix": "",
     "delete_cmd_prefix": "del ",
     "library": "var_list.py",
     "varRefreshCmd": "print(var_dic_list())"
    },
    "r": {
     "delete_cmd_postfix": ") ",
     "delete_cmd_prefix": "rm(",
     "library": "var_list.r",
     "varRefreshCmd": "cat(var_dic_list()) "
    }
   },
   "types_to_exclude": [
    "module",
    "function",
    "builtin_function_or_method",
    "instance",
    "_Feature"
   ],
   "window_display": false
  }
 },
 "nbformat": 4,
 "nbformat_minor": 2
}
