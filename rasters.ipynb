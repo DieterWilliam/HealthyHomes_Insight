{
 "cells": [
  {
   "cell_type": "code",
   "execution_count": 224,
   "metadata": {},
   "outputs": [],
   "source": [
    "import rasterio\n",
    "import rasterio.plot\n",
    "import numpy as np\n",
    "import matplotlib.pyplot as plt\n",
    "import osmnx as ox\n",
    "from rasterio.plot import show, show_hist"
   ]
  },
  {
   "cell_type": "code",
   "execution_count": 204,
   "metadata": {},
   "outputs": [],
   "source": [
    "places = ['Richmond, California, USA'\n",
    "          'El Cerrito, California, USA',\n",
    "          'Albany, California, USA',\n",
    "          'Piedmont, California, USA', \n",
    "          'Berkeley, California, USA',\n",
    "          'Emeryville, California, USA',\n",
    "          'Oakland, California, USA']\n",
    "\n",
    "eastbay_cities = ox.gdf_from_places(places)"
   ]
  },
  {
   "cell_type": "code",
   "execution_count": 205,
   "metadata": {},
   "outputs": [],
   "source": [
    "eastbay_cities['region'] = 'East Bay'"
   ]
  },
  {
   "cell_type": "code",
   "execution_count": 206,
   "metadata": {},
   "outputs": [],
   "source": [
    "# dissolve zones for easy iteration to points later\n",
    "eastbay_cities = eastbay_cities.dissolve(by='region', aggfunc='sum')\n",
    "eastbay_cities = eastbay_cities.reset_index()"
   ]
  },
  {
   "cell_type": "code",
   "execution_count": 207,
   "metadata": {},
   "outputs": [
    {
     "data": {
      "text/plain": [
       "<matplotlib.axes._subplots.AxesSubplot at 0x1a2874eda0>"
      ]
     },
     "execution_count": 207,
     "metadata": {},
     "output_type": "execute_result"
    },
    {
     "data": {
      "image/png": "[encoded data removed]",
      "text/plain": [
       "<Figure size 432x288 with 1 Axes>"
      ]
     },
     "metadata": {
      "needs_background": "light"
     },
     "output_type": "display_data"
    }
   ],
   "source": [
    "eastbay_cities.plot()"
   ]
  },
  {
   "cell_type": "code",
   "execution_count": 225,
   "metadata": {},
   "outputs": [
    {
     "name": "stdout",
     "output_type": "stream",
     "text": [
      "{'driver': 'GTiff', 'dtype': 'float32', 'nodata': -3.4e+38, 'width': 43200, 'height': 21600, 'count': 1, 'crs': CRS({'init': 'epsg:4326'}), 'transform': Affine(0.008333333333333333, 0.0, -180.0,\n",
      "       0.0, -0.008333333333333333, 90.0), 'tiled': False, 'compress': 'deflate', 'interleave': 'band'}\n"
     ]
    }
   ],
   "source": [
    "filepath = 'data/wc2.0_30s_tavg/wc2.0_30s_tavg_06.tif'\n",
    "\n",
    "with rasterio.open('data/wc2.0_30s_tavg/wc2.0_30s_tavg_06.tif') as src:\n",
    "    print(src.profile)"
   ]
  },
  {
   "cell_type": "code",
   "execution_count": 158,
   "metadata": {},
   "outputs": [],
   "source": [
    "with rasterio.open(filepath) as src:\n",
    "    out_image, out_transform = rasterio.mask.mask(src, eastbay_cities.geometry,\n",
    "                                                        crop=True)\n",
    "    out_meta = src.meta.copy()"
   ]
  },
  {
   "cell_type": "code",
   "execution_count": 159,
   "metadata": {},
   "outputs": [],
   "source": [
    "out_meta.update({\"driver\": \"GTiff\",\n",
    "                 \"height\": out_image.shape[1],\n",
    "                 \"width\": out_image.shape[2],\n",
    "                 \"transform\": out_transform})\n",
    "with rasterio.open(\"RGB.byte.masked.tif\", \"w\", **out_meta) as dest:\n",
    "    dest.write(out_image)"
   ]
  },
  {
   "cell_type": "code",
   "execution_count": 162,
   "metadata": {},
   "outputs": [],
   "source": [
    "with rasterio.open('RGB.byte.masked.tif') as src:\n",
    "    wind_raster = src.read()"
   ]
  },
  {
   "cell_type": "code",
   "execution_count": 163,
   "metadata": {},
   "outputs": [
    {
     "name": "stderr",
     "output_type": "stream",
     "text": [
      "/anaconda3/envs/OSMNX/lib/python3.6/site-packages/matplotlib/image.py:429: RuntimeWarning: overflow encountered in true_divide\n",
      "  A_scaled /= ((a_max - a_min) / 0.8)\n"
     ]
    },
    {
     "data": {
      "image/png": "[encoded data removed]",
      "text/plain": [
       "<Figure size 432x288 with 1 Axes>"
      ]
     },
     "metadata": {
      "needs_background": "light"
     },
     "output_type": "display_data"
    }
   ],
   "source": [
    "raster = rasterio.open('RGB.byte.masked.tif')\n",
    "show(raster);"
   ]
  },
  {
   "cell_type": "code",
   "execution_count": 150,
   "metadata": {},
   "outputs": [],
   "source": [
    "GSV_all = import_gpd('data/GSV_all_new.csv')"
   ]
  },
  {
   "cell_type": "code",
   "execution_count": 151,
   "metadata": {},
   "outputs": [
    {
     "data": {
      "text/plain": [
       "array([-122.3225938, -122.32231  , -122.3223008, ..., -122.1389953,\n",
       "       -122.1389192, -122.1388431])"
      ]
     },
     "execution_count": 151,
     "metadata": {},
     "output_type": "execute_result"
    }
   ],
   "source": [
    "np.array(GSV_all['Longitude'].values)"
   ]
  },
  {
   "cell_type": "code",
   "execution_count": 165,
   "metadata": {},
   "outputs": [],
   "source": [
    "from feature_geometries import *\n",
    "import rasterio\n",
    "\n",
    "lons = np.array(GSV_all['Longitude'].values)\n",
    "lats = np.array(GSV_all['Latitude'].values)\n",
    "winds = np.zeros(GSV_all.shape[0])\n",
    "\n",
    "with rasterio.open(filepath) as src:\n",
    "    for i, val in enumerate(src.sample(zip(lons, lats))):\n",
    "        winds[i] = val"
   ]
  },
  {
   "cell_type": "code",
   "execution_count": 169,
   "metadata": {},
   "outputs": [],
   "source": [
    "winds = np.where(winds < 0, np.nan, winds)"
   ]
  },
  {
   "cell_type": "code",
   "execution_count": 154,
   "metadata": {},
   "outputs": [],
   "source": [
    "GSV_all['wind'] = winds"
   ]
  },
  {
   "cell_type": "code",
   "execution_count": 174,
   "metadata": {},
   "outputs": [
    {
     "data": {
      "text/plain": [
       "array([17.5       , 17.5       , 17.5       , ..., 18.10000038,\n",
       "       18.10000038, 18.10000038])"
      ]
     },
     "execution_count": 174,
     "metadata": {},
     "output_type": "execute_result"
    }
   ],
   "source": [
    "winds"
   ]
  },
  {
   "cell_type": "code",
   "execution_count": 232,
   "metadata": {},
   "outputs": [
    {
     "data": {
      "text/plain": [
       "['data/wc2.0_30s_tavg/wc2.0_30s_tavg_08.tif',\n",
       " 'data/wc2.0_30s_tavg/wc2.0_30s_tavg_09.tif',\n",
       " 'data/wc2.0_30s_tavg/wc2.0_30s_tavg_07.tif',\n",
       " 'data/wc2.0_30s_tavg/wc2.0_30s_tavg_06.tif',\n",
       " 'data/wc2.0_30s_tavg/wc2.0_30s_tavg_12.tif',\n",
       " 'data/wc2.0_30s_tavg/wc2.0_30s_tavg_04.tif',\n",
       " 'data/wc2.0_30s_tavg/wc2.0_30s_tavg_10.tif',\n",
       " 'data/wc2.0_30s_tavg/wc2.0_30s_tavg_11.tif',\n",
       " 'data/wc2.0_30s_tavg/wc2.0_30s_tavg_05.tif',\n",
       " 'data/wc2.0_30s_tavg/wc2.0_30s_tavg_01.tif',\n",
       " 'data/wc2.0_30s_tavg/wc2.0_30s_tavg_02.tif',\n",
       " 'data/wc2.0_30s_tavg/wc2.0_30s_tavg_03.tif']"
      ]
     },
     "execution_count": 232,
     "metadata": {},
     "output_type": "execute_result"
    }
   ],
   "source": [
    "import rasterio\n",
    "import numpy as np\n",
    "from glob import glob\n",
    "import os\n",
    "\n",
    "data_dir = 'data/wc2.0_30s_tavg' # Or sys.argv[1]\n",
    "file_list = glob(os.path.join(data_dir, '*.tif'))\n",
    "file_list"
   ]
  },
  {
   "cell_type": "code",
   "execution_count": 233,
   "metadata": {},
   "outputs": [
    {
     "name": "stderr",
     "output_type": "stream",
     "text": [
      "/anaconda3/envs/OSMNX/lib/python3.6/site-packages/numpy/core/_methods.py:75: RuntimeWarning: overflow encountered in reduce\n",
      "  ret = umr_sum(arr, axis, dtype, out, keepdims)\n"
     ]
    },
    {
     "data": {
      "text/plain": [
       "array([[      -inf,       -inf,       -inf, ...,       -inf,       -inf,\n",
       "              -inf],\n",
       "       [      -inf,       -inf,       -inf, ...,       -inf,       -inf,\n",
       "              -inf],\n",
       "       [      -inf,       -inf,       -inf, ...,       -inf,       -inf,\n",
       "              -inf],\n",
       "       ...,\n",
       "       [-33.833336, -44.44167 , -44.44167 , ..., -41.350002, -30.708334,\n",
       "        -30.699999],\n",
       "       [  0.      ,   0.      ,   0.      , ...,   0.      ,   0.      ,\n",
       "          0.      ],\n",
       "       [  0.      ,   0.      ,   0.      , ...,   0.      ,   0.      ,\n",
       "          0.      ]], dtype=float32)"
      ]
     },
     "execution_count": 233,
     "metadata": {},
     "output_type": "execute_result"
    }
   ],
   "source": [
    "def read_file(file):\n",
    "    with rasterio.open(file) as src:\n",
    "        return(src.read(1))\n",
    "\n",
    "# Read all data as a list of numpy arrays \n",
    "array_list = [read_file(x) for x in file_list]\n",
    "# Perform averaging\n",
    "array_out = np.mean(array_list, axis=0)\n",
    "array_out"
   ]
  },
  {
   "cell_type": "code",
   "execution_count": 234,
   "metadata": {},
   "outputs": [
    {
     "data": {
      "text/plain": [
       "(21600, 43200)"
      ]
     },
     "execution_count": 234,
     "metadata": {},
     "output_type": "execute_result"
    }
   ],
   "source": [
    "array_out.shape"
   ]
  },
  {
   "cell_type": "code",
   "execution_count": 235,
   "metadata": {},
   "outputs": [],
   "source": [
    "# Get metadata from one of the input files\n",
    "with rasterio.open(file_list[0]) as src:\n",
    "    meta = src.meta\n",
    "\n",
    "meta.update(dtype=rasterio.float32)\n",
    "\n",
    "# Write output file\n",
    "with rasterio.open('data/wc2.0_30s_tavg/avg_tavg.tif', 'w', **meta) as dst:\n",
    "    dst.write(array_out.astype(rasterio.float32), 1)"
   ]
  },
  {
   "cell_type": "code",
   "execution_count": 230,
   "metadata": {},
   "outputs": [
    {
     "data": {
      "image/png": "[encoded data removed]",
      "text/plain": [
       "<Figure size 432x288 with 1 Axes>"
      ]
     },
     "metadata": {
      "needs_background": "light"
     },
     "output_type": "display_data"
    }
   ],
   "source": [
    "raster = rasterio.open('data/wc2.0_30s_wind/avg_wind.tif')\n",
    "show(raster);"
   ]
  },
  {
   "cell_type": "code",
   "execution_count": 222,
   "metadata": {},
   "outputs": [],
   "source": [
    "from feature_geometries import *\n",
    "import rasterio\n",
    "\n",
    "lons = np.array(GSV_all['Longitude'].values)\n",
    "lats = np.array(GSV_all['Latitude'].values)\n",
    "winds = np.zeros(GSV_all.shape[0])\n",
    "\n",
    "with rasterio.open('data/wc2.0_30s_wind/avg_wind.tif') as src:\n",
    "    for i, val in enumerate(src.sample(zip(lons, lats))):\n",
    "        winds[i] = val\n",
    "        \n",
    "winds = np.where(winds < 0, np.nan, winds)"
   ]
  },
  {
   "cell_type": "code",
   "execution_count": 212,
   "metadata": {},
   "outputs": [
    {
     "data": {
      "text/plain": [
       "16"
      ]
     },
     "execution_count": 212,
     "metadata": {},
     "output_type": "execute_result"
    }
   ],
   "source": [
    "np.sum(np.isnan(winds))"
   ]
  },
  {
   "cell_type": "code",
   "execution_count": 223,
   "metadata": {},
   "outputs": [
    {
     "data": {
      "text/plain": [
       "[<matplotlib.lines.Line2D at 0x1a28e79128>]"
      ]
     },
     "execution_count": 223,
     "metadata": {},
     "output_type": "execute_result"
    },
    {
     "data": {
      "image/png": "[encoded data removed]",
      "text/plain": [
       "<Figure size 432x288 with 1 Axes>"
      ]
     },
     "metadata": {
      "needs_background": "light"
     },
     "output_type": "display_data"
    }
   ],
   "source": [
    "plt.plot(winds)"
   ]
  },
  {
   "cell_type": "code",
   "execution_count": null,
   "metadata": {},
   "outputs": [],
   "source": []
  }
 ],
 "metadata": {
  "kernelspec": {
   "display_name": "Python 3",
   "language": "python",
   "name": "python3"
  },
  "language_info": {
   "codemirror_mode": {
    "name": "ipython",
    "version": 3
   },
   "file_extension": ".py",
   "mimetype": "text/x-python",
   "name": "python",
   "nbconvert_exporter": "python",
   "pygments_lexer": "ipython3",
   "version": "3.6.6"
  },
  "toc": {
   "base_numbering": 1,
   "nav_menu": {},
   "number_sections": true,
   "sideBar": true,
   "skip_h1_title": false,
   "title_cell": "Table of Contents",
   "title_sidebar": "Contents",
   "toc_cell": false,
   "toc_position": {},
   "toc_section_display": true,
   "toc_window_display": false
  },
  "varInspector": {
   "cols": {
    "lenName": 16,
    "lenType": 16,
    "lenVar": 40
   },
   "kernels_config": {
    "python": {
     "delete_cmd_postfix": "",
     "delete_cmd_prefix": "del ",
     "library": "var_list.py",
     "varRefreshCmd": "print(var_dic_list())"
    },
    "r": {
     "delete_cmd_postfix": ") ",
     "delete_cmd_prefix": "rm(",
     "library": "var_list.r",
     "varRefreshCmd": "cat(var_dic_list()) "
    }
   },
   "types_to_exclude": [
    "module",
    "function",
    "builtin_function_or_method",
    "instance",
    "_Feature"
   ],
   "window_display": false
  }
 },
 "nbformat": 4,
 "nbformat_minor": 2
}
